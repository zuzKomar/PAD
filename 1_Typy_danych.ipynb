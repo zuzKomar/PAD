{
  "cells": [
    {
      "cell_type": "markdown",
      "metadata": {
        "id": "view-in-github",
        "colab_type": "text"
      },
      "source": [
        "<a href=\"https://colab.research.google.com/github/zuzKomar/PAD/blob/main/1_Typy_danych.ipynb\" target=\"_parent\"><img src=\"https://colab.research.google.com/assets/colab-badge.svg\" alt=\"Open In Colab\"/></a>"
      ]
    },
    {
      "cell_type": "markdown",
      "metadata": {
        "id": "F36xEZ5o48U7"
      },
      "source": [
        "## Listy"
      ]
    },
    {
      "cell_type": "markdown",
      "metadata": {
        "id": "kuUC1q3C48VY"
      },
      "source": [
        "- Ważny typ danych w Pythonie.\n",
        "- Oznaczone nawiasami kwadratowymi [].\n",
        "- Przechowuj przedmioty jako zmienną, uporządkowaną sekwencję elementów.\n",
        "- Każdy element na liście jest pozycją.\n",
        "- Wsparcie indeksowania i krojenia.\n",
        "- Może zagnieżdżać listy w sobie."
      ]
    },
    {
      "cell_type": "markdown",
      "metadata": {
        "id": "d0WoNKTK48Vb"
      },
      "source": [
        "### Niektóre definicje\n",
        "- Mutable: można zmienić po utworzeniu (obsługuje dodawanie/usuwanie/zmiany przypisania przedmiotów).\n",
        "- Uporządkowane: jak się wydaje, ma stałą kolejność (kolejność elementów podaną w momencie przypisania) i dlatego może być indeksowane za pomocą liczb.\n",
        "- Stąd lista \\[2,1,3,4\\] nie zostanie przełożona, 2 będzie pierwszym elementem, 1 będzie drugim... itd.\n",
        "- Kolejność elementów: dość oczywista."
      ]
    },
    {
      "cell_type": "code",
      "execution_count": 6,
      "metadata": {
        "id": "noq1nhid48Vc"
      },
      "outputs": [],
      "source": [
        "# może mieć wiele typów w jednej kolekcji\n",
        "my_list = [3, \"three\", 3.0, True]"
      ]
    },
    {
      "cell_type": "code",
      "execution_count": 1,
      "metadata": {
        "colab": {
          "base_uri": "https://localhost:8080/"
        },
        "id": "jQX_xPWd48Ve",
        "outputId": "bfec0fa0-daa3-4c21-985e-07729497cc67"
      },
      "outputs": [
        {
          "output_type": "execute_result",
          "data": {
            "text/plain": [
              "int"
            ]
          },
          "metadata": {},
          "execution_count": 1
        }
      ],
      "source": [
        "# może użyć funkcji type() do sprawdzenia typu danych obiektu\n",
        "type(3)"
      ]
    },
    {
      "cell_type": "code",
      "execution_count": 2,
      "metadata": {
        "colab": {
          "base_uri": "https://localhost:8080/"
        },
        "id": "54IU0sPQ48Vf",
        "outputId": "5279a138-3a17-4747-c78a-60f02f5e54da"
      },
      "outputs": [
        {
          "output_type": "execute_result",
          "data": {
            "text/plain": [
              "str"
            ]
          },
          "metadata": {},
          "execution_count": 2
        }
      ],
      "source": [
        "type(\"three\")"
      ]
    },
    {
      "cell_type": "code",
      "execution_count": 3,
      "metadata": {
        "colab": {
          "base_uri": "https://localhost:8080/"
        },
        "id": "Yw9_xuy348Vp",
        "outputId": "def31f12-56e3-4aac-8924-d03be84c44fc"
      },
      "outputs": [
        {
          "output_type": "execute_result",
          "data": {
            "text/plain": [
              "float"
            ]
          },
          "metadata": {},
          "execution_count": 3
        }
      ],
      "source": [
        "type(3.0)"
      ]
    },
    {
      "cell_type": "code",
      "execution_count": 4,
      "metadata": {
        "colab": {
          "base_uri": "https://localhost:8080/"
        },
        "id": "fmgkcFJE48Vr",
        "outputId": "0751133d-3028-414d-a8b9-233d6cef0a72"
      },
      "outputs": [
        {
          "output_type": "execute_result",
          "data": {
            "text/plain": [
              "bool"
            ]
          },
          "metadata": {},
          "execution_count": 4
        }
      ],
      "source": [
        "type(True)"
      ]
    },
    {
      "cell_type": "code",
      "execution_count": 7,
      "metadata": {
        "colab": {
          "base_uri": "https://localhost:8080/"
        },
        "id": "cW6fwFJc48Vt",
        "outputId": "3f02ddca-7a79-4cab-9535-411e3788b655"
      },
      "outputs": [
        {
          "output_type": "execute_result",
          "data": {
            "text/plain": [
              "list"
            ]
          },
          "metadata": {},
          "execution_count": 7
        }
      ],
      "source": [
        "type(my_list)"
      ]
    },
    {
      "cell_type": "markdown",
      "metadata": {
        "id": "SBTQZ4Xm48Vw"
      },
      "source": [
        "### Indexing and Slicing"
      ]
    },
    {
      "cell_type": "markdown",
      "metadata": {
        "id": "4DvUbBFz48Vy"
      },
      "source": [
        "W Pythonie slicing:\n",
        "\n",
        "- Zaczyna się od 0 (zero).\n",
        "- Obejmuje dolną granicę (włącznie).\n",
        "- Wyłącza się w górnej granicy (do, ale nie wliczając)."
      ]
    },
    {
      "cell_type": "code",
      "execution_count": 8,
      "metadata": {
        "colab": {
          "base_uri": "https://localhost:8080/"
        },
        "id": "hKOZQ5-_48V1",
        "outputId": "1a31b1bc-6fa7-4fc7-8dd8-8798fa83bd3a"
      },
      "outputs": [
        {
          "output_type": "execute_result",
          "data": {
            "text/plain": [
              "[3, 'three', 3.0, True]"
            ]
          },
          "metadata": {},
          "execution_count": 8
        }
      ],
      "source": [
        "my_list = [3, \"three\", 3.0, True]\n",
        "my_list"
      ]
    },
    {
      "cell_type": "code",
      "execution_count": 9,
      "metadata": {
        "colab": {
          "base_uri": "https://localhost:8080/"
        },
        "id": "3e-E9loI48V3",
        "outputId": "0fb13d0a-01cb-43ec-a053-ba8e5c06d33b"
      },
      "outputs": [
        {
          "output_type": "execute_result",
          "data": {
            "text/plain": [
              "3"
            ]
          },
          "metadata": {},
          "execution_count": 9
        }
      ],
      "source": [
        "# Index 0 zwraca 1 element\n",
        "my_list[0]"
      ]
    },
    {
      "cell_type": "code",
      "execution_count": 10,
      "metadata": {
        "colab": {
          "base_uri": "https://localhost:8080/"
        },
        "id": "nM4n1qao48V5",
        "outputId": "5cea2c2f-3c66-471b-e6b6-75154dbbd315"
      },
      "outputs": [
        {
          "output_type": "execute_result",
          "data": {
            "text/plain": [
              "['three', 3.0]"
            ]
          },
          "metadata": {},
          "execution_count": 10
        }
      ],
      "source": [
        "# Użyj dwukropka, aby wskazać wycinek, 1:3 zwraca 2 i 3 pozycję, ale nie 4\n",
        "my_list[1:3]"
      ]
    },
    {
      "cell_type": "code",
      "execution_count": 11,
      "metadata": {
        "colab": {
          "base_uri": "https://localhost:8080/"
        },
        "id": "QIqki1PO48V7",
        "outputId": "c1a34bd9-47fc-45a7-c92e-0d03bfb9f7b0"
      },
      "outputs": [
        {
          "output_type": "execute_result",
          "data": {
            "text/plain": [
              "['three', 3.0, True]"
            ]
          },
          "metadata": {},
          "execution_count": 11
        }
      ],
      "source": [
        "# Brak górnej granicy zaczyna się od wskazanego pierwszego indeksu i daje wszystko poza pierwszym indeksem\n",
        "my_list[1:]"
      ]
    },
    {
      "cell_type": "code",
      "execution_count": 12,
      "metadata": {
        "colab": {
          "base_uri": "https://localhost:8080/"
        },
        "id": "lz22DEjM48V8",
        "outputId": "0b8a0907-c3c9-4094-9745-0aa227ab9e2b"
      },
      "outputs": [
        {
          "output_type": "execute_result",
          "data": {
            "text/plain": [
              "[3, 'three', 3.0]"
            ]
          },
          "metadata": {},
          "execution_count": 12
        }
      ],
      "source": [
        "# Brak dolnej granicy zaczyna się od indeksu 0, aż do górnej granicy, której ale nie obejmuje\n",
        "my_list[:3]"
      ]
    },
    {
      "cell_type": "code",
      "execution_count": 13,
      "metadata": {
        "colab": {
          "base_uri": "https://localhost:8080/"
        },
        "id": "BNnHp89x48V_",
        "outputId": "e092083a-03dd-4ea9-c4c4-3d5d3f71505b"
      },
      "outputs": [
        {
          "output_type": "execute_result",
          "data": {
            "text/plain": [
              "[3, 'THREE', 3.0, True]"
            ]
          },
          "metadata": {},
          "execution_count": 13
        }
      ],
      "source": [
        "# może zmienić przypisanie elementów na listach do nowych wartości\n",
        "my_list[1] = my_list[1].upper()\n",
        "my_list"
      ]
    },
    {
      "cell_type": "code",
      "execution_count": null,
      "metadata": {
        "id": "Ms8lEz9Q48WB"
      },
      "outputs": [],
      "source": [
        "# Może dodawać listy, nie zmieniając oryginalnej listy\n",
        "my_list + ['new item']"
      ]
    },
    {
      "cell_type": "code",
      "execution_count": 14,
      "metadata": {
        "colab": {
          "base_uri": "https://localhost:8080/"
        },
        "id": "kfv2IxoM48WH",
        "outputId": "714f2568-5eb5-4554-d505-a49983eeb87b"
      },
      "outputs": [
        {
          "output_type": "execute_result",
          "data": {
            "text/plain": [
              "[3, 'THREE', 3.0, True, 'add new item permanently']"
            ]
          },
          "metadata": {},
          "execution_count": 14
        }
      ],
      "source": [
        "# aby zmienić pierwszą listę zmianę należy przypisać\n",
        "my_list = my_list + ['add new item permanently']\n",
        "\n",
        "my_list"
      ]
    },
    {
      "cell_type": "code",
      "execution_count": 15,
      "metadata": {
        "colab": {
          "base_uri": "https://localhost:8080/"
        },
        "id": "0zLAYynj48WN",
        "outputId": "1fef793e-47f9-4326-f854-5db47a9b6f10"
      },
      "outputs": [
        {
          "output_type": "execute_result",
          "data": {
            "text/plain": [
              "[3,\n",
              " 'THREE',\n",
              " 3.0,\n",
              " True,\n",
              " 'add new item permanently',\n",
              " 3,\n",
              " 'THREE',\n",
              " 3.0,\n",
              " True,\n",
              " 'add new item permanently']"
            ]
          },
          "metadata": {},
          "execution_count": 15
        }
      ],
      "source": [
        "#Mnożenie\n",
        "my_list * 2"
      ]
    },
    {
      "cell_type": "code",
      "execution_count": null,
      "metadata": {
        "id": "qQg64tAq48WN"
      },
      "outputs": [],
      "source": [
        "# Listy mogą być pozycją na liście\n",
        "# Listy w listach są nazywane zagnieżdżonymi\n",
        "lst_1=[1,2,3]\n",
        "lst_2=[4,5,6]\n",
        "lst_3=[7,8,9]\n",
        "\n",
        "# Zrób listę list, aby utworzyć zagnieżdżoną listę\n",
        "nest_list = [lst_1,lst_2,lst_3]\n",
        "nest_list"
      ]
    },
    {
      "cell_type": "code",
      "execution_count": null,
      "metadata": {
        "id": "mrbSC9hb48WO"
      },
      "outputs": [],
      "source": [
        "nest_list[1][1]"
      ]
    },
    {
      "cell_type": "markdown",
      "metadata": {
        "id": "5UWh_K0Z48WP"
      },
      "source": [
        "### Funkcje i metody list"
      ]
    },
    {
      "cell_type": "code",
      "execution_count": 16,
      "metadata": {
        "colab": {
          "base_uri": "https://localhost:8080/"
        },
        "id": "iXdJkmTS48WQ",
        "outputId": "ac0f5f86-69c4-449e-ac0a-4eb94bd6ac10"
      },
      "outputs": [
        {
          "output_type": "execute_result",
          "data": {
            "text/plain": [
              "5"
            ]
          },
          "metadata": {},
          "execution_count": 16
        }
      ],
      "source": [
        "# użyj funkcji len() do sprawdzenia długości\n",
        "len(my_list)"
      ]
    },
    {
      "cell_type": "code",
      "execution_count": 17,
      "metadata": {
        "colab": {
          "base_uri": "https://localhost:8080/"
        },
        "id": "RG03_5Jz48WR",
        "outputId": "f23e50f4-a52f-4e54-f636-5973432fc60f"
      },
      "outputs": [
        {
          "output_type": "stream",
          "name": "stdout",
          "text": [
            "1\n",
            "9\n"
          ]
        }
      ],
      "source": [
        "# użyj min() i max(), aby znaleźć najwyższą i najniższą pozycję na listach\n",
        "# działa w kolejności alfabetycznej z ciągami znaków\n",
        "new_list = [1,2,3,4,5,6,7,8,9]\n",
        "\n",
        "print(min(new_list))\n",
        "print(max(new_list))"
      ]
    },
    {
      "cell_type": "markdown",
      "metadata": {
        "id": "EYLGnZnn48WU"
      },
      "source": [
        "#### .append() kontra .extend()\n",
        "- .append() dodaje pozycje na końcu listy.\n",
        "- .extend() dodaje pozycje z listy (lub innej iterowalnej) pozycji na końcu listy.\n",
        "- Różnicę w dodatku widzimy poniżej."
      ]
    },
    {
      "cell_type": "code",
      "execution_count": 18,
      "metadata": {
        "colab": {
          "base_uri": "https://localhost:8080/"
        },
        "id": "6bY-rWVQ48WW",
        "outputId": "70e1a2c0-7798-42ae-f87b-6b21b048827d"
      },
      "outputs": [
        {
          "output_type": "execute_result",
          "data": {
            "text/plain": [
              "[3, 'THREE', 3.0, True, 'add new item permanently', [1, 2, 3]]"
            ]
          },
          "metadata": {},
          "execution_count": 18
        }
      ],
      "source": [
        "# dodaj elementy metodą .append()\n",
        "\n",
        "my_list.append([1,2,3])\n",
        "\n",
        "my_list"
      ]
    },
    {
      "cell_type": "code",
      "execution_count": 19,
      "metadata": {
        "colab": {
          "base_uri": "https://localhost:8080/"
        },
        "id": "nvDx0m9848WX",
        "outputId": "cb604304-8e0d-4a0d-a76a-fe581f101a65"
      },
      "outputs": [
        {
          "output_type": "execute_result",
          "data": {
            "text/plain": [
              "[3, 'THREE', 3.0, True, 'add new item permanently', [1, 2, 3], 1, 2, 3]"
            ]
          },
          "metadata": {},
          "execution_count": 19
        }
      ],
      "source": [
        "# dodaj elementy w iterowalnej pozycji za pomocą metody .extend()\n",
        "\n",
        "my_list.extend([1,2,3])\n",
        "\n",
        "my_list"
      ]
    },
    {
      "cell_type": "code",
      "execution_count": 20,
      "metadata": {
        "colab": {
          "base_uri": "https://localhost:8080/"
        },
        "id": "o_esznbM48WY",
        "outputId": "c14495c5-bc0e-4918-8e82-c49ed5615bfd"
      },
      "outputs": [
        {
          "output_type": "execute_result",
          "data": {
            "text/plain": [
              "3"
            ]
          },
          "metadata": {},
          "execution_count": 20
        }
      ],
      "source": [
        "# użyj metody .pop, aby usunąć i zwrócić ostatni element\n",
        "my_list.pop()"
      ]
    },
    {
      "cell_type": "code",
      "execution_count": 21,
      "metadata": {
        "colab": {
          "base_uri": "https://localhost:8080/",
          "height": 35
        },
        "id": "nWGOnNND48WZ",
        "outputId": "e7c7a61f-95fd-418b-f134-125ce2525d6f"
      },
      "outputs": [
        {
          "output_type": "execute_result",
          "data": {
            "text/plain": [
              "'THREE'"
            ],
            "application/vnd.google.colaboratory.intrinsic+json": {
              "type": "string"
            }
          },
          "metadata": {},
          "execution_count": 21
        }
      ],
      "source": [
        "# można użyć indeksu, domyślny indeks -1\n",
        "my_list.pop(1)"
      ]
    },
    {
      "cell_type": "code",
      "execution_count": 22,
      "metadata": {
        "colab": {
          "base_uri": "https://localhost:8080/"
        },
        "id": "lmzzoRV948Wa",
        "outputId": "6f15f216-2a40-45f2-e888-8a7452279eb9"
      },
      "outputs": [
        {
          "output_type": "execute_result",
          "data": {
            "text/plain": [
              "2"
            ]
          },
          "metadata": {},
          "execution_count": 22
        }
      ],
      "source": [
        "# zwrócony element można przypisać do zmiennej\n",
        "popped_item = my_list.pop()\n",
        "\n",
        "popped_item"
      ]
    },
    {
      "cell_type": "code",
      "execution_count": 23,
      "metadata": {
        "id": "bmGRvbRS48Wc"
      },
      "outputs": [],
      "source": [
        "# użyj metody .sort() do sortowania listy, zmienia oryginalną listę, bez zwracanej wartości\n",
        "\n",
        "let_list = [\"a\", \"d\", \"v\", \"x\", \"g\"]\n",
        "\n",
        "num_list = [13,42,4,24,2,46,3,7]"
      ]
    },
    {
      "cell_type": "code",
      "execution_count": 24,
      "metadata": {
        "id": "0x4adKi848We"
      },
      "outputs": [],
      "source": [
        "let_list.sort()\n",
        "num_list.sort()"
      ]
    },
    {
      "cell_type": "code",
      "execution_count": 25,
      "metadata": {
        "colab": {
          "base_uri": "https://localhost:8080/"
        },
        "id": "zhMv-tIE48Wf",
        "outputId": "0f9ca3d1-7df4-4c35-c892-28636f3ace98"
      },
      "outputs": [
        {
          "output_type": "stream",
          "name": "stdout",
          "text": [
            "['a', 'd', 'g', 'v', 'x']\n",
            "[2, 3, 4, 7, 13, 24, 42, 46]\n"
          ]
        }
      ],
      "source": [
        "print(let_list)\n",
        "print(num_list)"
      ]
    },
    {
      "cell_type": "code",
      "execution_count": 37,
      "metadata": {
        "colab": {
          "base_uri": "https://localhost:8080/"
        },
        "id": "i-JXGa9u48Wh",
        "outputId": "dab52c92-ccae-442d-f86b-1ea3cac8a46a"
      },
      "outputs": [
        {
          "output_type": "stream",
          "name": "stdout",
          "text": [
            "[46, 42, 24, 13, 7, 4, 3, 2]\n"
          ]
        }
      ],
      "source": [
        "# użyj metody .reverse() do odwrócenia listy\n",
        "num_list.reverse()\n",
        "\n",
        "print(num_list)"
      ]
    },
    {
      "cell_type": "code",
      "execution_count": 38,
      "metadata": {
        "colab": {
          "base_uri": "https://localhost:8080/",
          "height": 35
        },
        "id": "PU3IeKcB48Wi",
        "outputId": "f81ee6df-cf10-4619-ab75-bb4c28e3ad80"
      },
      "outputs": [
        {
          "output_type": "execute_result",
          "data": {
            "text/plain": [
              "'This is a sentence.'"
            ],
            "application/vnd.google.colaboratory.intrinsic+json": {
              "type": "string"
            }
          },
          "metadata": {},
          "execution_count": 38
        }
      ],
      "source": [
        "# użyj \"sep\".join(list), aby dołączyć do listy ciągów za pomocą separatora\n",
        "\n",
        "list_of_strings = [\"This\", \"is\", \"a\", \"sentence.\"]\n",
        "\n",
        "\" \".join(list_of_strings)"
      ]
    },
    {
      "cell_type": "code",
      "execution_count": null,
      "metadata": {
        "id": "OePoTmkp48Wv"
      },
      "outputs": [],
      "source": []
    },
    {
      "cell_type": "markdown",
      "metadata": {
        "id": "elut3Dil48W1"
      },
      "source": [
        "## Listy Ćwiczenia"
      ]
    },
    {
      "cell_type": "markdown",
      "metadata": {
        "id": "1isMlfPD48W5"
      },
      "source": [
        "### Pytanie 1:\n",
        "Napisz program, który sprawdzi, czy dwa słowa w dwuwyrazowym ciągu zaczynają się od tej samej litery. <br>\n",
        "Skopiuj i wklej (i nieznacznie zmodyfikuj) swój kod, aby wypróbować go w obu przypadkach."
      ]
    },
    {
      "cell_type": "code",
      "execution_count": 29,
      "metadata": {
        "colab": {
          "base_uri": "https://localhost:8080/"
        },
        "id": "XHrGFBRQ48W5",
        "outputId": "aecce1b1-3c7e-4731-bc60-4437000821e8"
      },
      "outputs": [
        {
          "output_type": "stream",
          "name": "stdout",
          "text": [
            "Both words start with the same letter\n"
          ]
        }
      ],
      "source": [
        "phrase1 = 'Clean Couch'\n",
        "\n",
        "def words_list(string_to_test):\n",
        "  words_list = string_to_test.split();\n",
        "  if words_list[0][0].casefold() == words_list[1][0].casefold():\n",
        "    print('Both words start with the same letter')\n",
        "  else:\n",
        "    print('Words first letters are different')\n",
        "\n",
        "\n",
        "words_list(phrase1);"
      ]
    },
    {
      "cell_type": "code",
      "execution_count": 30,
      "metadata": {
        "colab": {
          "base_uri": "https://localhost:8080/"
        },
        "id": "34Xyse8c48W6",
        "outputId": "d0eb0475-a438-42c6-ad0b-2bd36d3b6408"
      },
      "outputs": [
        {
          "output_type": "stream",
          "name": "stdout",
          "text": [
            "Words first letters are different\n"
          ]
        }
      ],
      "source": [
        "phrase2 = 'Giant Table'\n",
        "\n",
        "words_list(phrase2)"
      ]
    },
    {
      "cell_type": "markdown",
      "metadata": {
        "id": "DXdxiu6h48W8"
      },
      "source": [
        "### Pytanie 2:\n",
        "Napisz program, który zwraca ciąg znaków z odwróconymi __słowami__.\n",
        "Jeszcze raz spróbuj wykonać tę samą operację z obydwoma przypadkami testowymi."
      ]
    },
    {
      "cell_type": "code",
      "execution_count": 43,
      "metadata": {
        "colab": {
          "base_uri": "https://localhost:8080/",
          "height": 35
        },
        "id": "ImcXh0L_48W9",
        "outputId": "4219f5f7-6ca3-4d81-f3f5-5e2fc2fb1d46"
      },
      "outputs": [
        {
          "output_type": "execute_result",
          "data": {
            "text/plain": [
              "'phrase short a is This'"
            ],
            "application/vnd.google.colaboratory.intrinsic+json": {
              "type": "string"
            }
          },
          "metadata": {},
          "execution_count": 43
        }
      ],
      "source": [
        "my_string1 = 'This is a short phrase'\n",
        "\n",
        "# CODE HERE\n",
        "def return_reverse_words_string(string_to_test):\n",
        "  reversed_words_array = string_to_test.split()[::-1]\n",
        "  return \" \".join(reversed_words_array)\n",
        "\n",
        "return_reverse_words_string(my_string1)\n",
        "return_reverse_words_string(my_string1)"
      ]
    },
    {
      "cell_type": "code",
      "execution_count": 42,
      "metadata": {
        "colab": {
          "base_uri": "https://localhost:8080/",
          "height": 35
        },
        "id": "rnh2gFN348W-",
        "outputId": "627a6573-576f-4c95-d3b5-bd4a3257d682"
      },
      "outputs": [
        {
          "output_type": "execute_result",
          "data": {
            "text/plain": [
              "'one previous the than phrase longer significantly a actually is This'"
            ],
            "application/vnd.google.colaboratory.intrinsic+json": {
              "type": "string"
            }
          },
          "metadata": {},
          "execution_count": 42
        }
      ],
      "source": [
        "my_string2 = 'This is actually a significantly longer phrase than the previous one'\n",
        "\n",
        "return_reverse_words_string(my_string2)\n",
        "return_reverse_words_string(my_string2)"
      ]
    },
    {
      "cell_type": "markdown",
      "metadata": {
        "id": "xGozbcAF48XA"
      },
      "source": [
        "## Krótkie wprowadzenie do zbiorów"
      ]
    },
    {
      "cell_type": "markdown",
      "metadata": {
        "id": "3koLC19o48XA"
      },
      "source": [
        "- Zbiory są typem danych w Pythonie.\n",
        "- Przestrzegają zasad zbiorów matematycznych, które powinieneś już znać.\n",
        "- Są zmienne i nieuporządkowane i nie zawierają powtarzających się elementów (elementy są unikalne).\n",
        "- Oznacza to, że jednym z przydatnych zastosowań zestawu jest znalezienie wszystkich unikalnych przedmiotów na liście, jak widać poniżej.\n",
        "- Zbiory mają też swoje własne metody, z operacjami znanymi ze zbiorów matematycznych."
      ]
    },
    {
      "cell_type": "code",
      "execution_count": 45,
      "metadata": {
        "colab": {
          "base_uri": "https://localhost:8080/"
        },
        "id": "_vjWkQ1S48XB",
        "outputId": "e6317449-ec5d-4ab4-d5cd-339dce1baace"
      },
      "outputs": [
        {
          "output_type": "stream",
          "name": "stdout",
          "text": [
            "{1, 2, 3, 4, 5, 6, 55}\n"
          ]
        }
      ],
      "source": [
        "# może zwracać unikalne pozycje na liście przez rzutowanie listy do ustawienia za pomocą funkcji set()\n",
        "long_list = [1,1,1,1,2,3,3,4,5,5,4,4,5,5,6,6,5,55,5,5,5,5]\n",
        "\n",
        "set_of_list = set(long_list)\n",
        "\n",
        "print(set_of_list)"
      ]
    },
    {
      "cell_type": "code",
      "execution_count": 44,
      "metadata": {
        "colab": {
          "base_uri": "https://localhost:8080/"
        },
        "id": "jVJ2PbLL48XC",
        "outputId": "5f668c52-4357-410a-8a53-89b9c526b93f"
      },
      "outputs": [
        {
          "output_type": "stream",
          "name": "stdout",
          "text": [
            "set()\n",
            "{1}\n",
            "{1, 2}\n"
          ]
        }
      ],
      "source": [
        "# tworzymy zestawy, najpierw tworząc pusty zestaw, a następnie używając .add(), aby go dodać\n",
        "set_x = set()\n",
        "\n",
        "print(set_x)\n",
        "\n",
        "set_x.add(1)\n",
        "\n",
        "print(set_x)\n",
        "\n",
        "set_x.add(2)\n",
        "\n",
        "print(set_x)"
      ]
    },
    {
      "cell_type": "code",
      "execution_count": 46,
      "metadata": {
        "colab": {
          "base_uri": "https://localhost:8080/"
        },
        "id": "pueKkI6648XH",
        "outputId": "12f018ed-c6de-4d2f-8556-ae46058b5a12"
      },
      "outputs": [
        {
          "output_type": "stream",
          "name": "stdout",
          "text": [
            "{1, 2}\n",
            "{1, 2}\n"
          ]
        }
      ],
      "source": [
        "# jeśli dodamy 1 ponownie, zobaczymy, że zestaw się nie zmienia, ponieważ elementy w zestawie są unikalne\n",
        "print(set_x)\n",
        "\n",
        "set_x.add(1)\n",
        "\n",
        "print(set_x)"
      ]
    },
    {
      "cell_type": "code",
      "execution_count": 47,
      "metadata": {
        "colab": {
          "base_uri": "https://localhost:8080/"
        },
        "id": "fiwsbWr448XR",
        "outputId": "d3a00c82-1ce4-4aca-a60d-25b6876acdcb"
      },
      "outputs": [
        {
          "output_type": "execute_result",
          "data": {
            "text/plain": [
              "{1, 2, 3, 4, 5, 6, 55}"
            ]
          },
          "metadata": {},
          "execution_count": 47
        }
      ],
      "source": [
        "# .union() znajduje unię (unię matematyczną) jednego zestawu i drugiego\n",
        "set_x.union(set_of_list)"
      ]
    },
    {
      "cell_type": "code",
      "execution_count": 48,
      "metadata": {
        "colab": {
          "base_uri": "https://localhost:8080/"
        },
        "id": "uK5vu3qt48XS",
        "outputId": "e40d77ad-e146-4aa2-ddce-a87e6a1bbaf5"
      },
      "outputs": [
        {
          "output_type": "stream",
          "name": "stdout",
          "text": [
            "{1, 2}\n",
            "{1, 2, 3, 4, 5, 6, 55}\n",
            "{1, 2, 3, 4, 5, 6, 55}\n"
          ]
        }
      ],
      "source": [
        "# .update() aktualizuje zestaw za pomocą unii tego i innego zestawu\n",
        "print(set_x)\n",
        "\n",
        "print(set_of_list)\n",
        "\n",
        "set_x.update(set_of_list)\n",
        "\n",
        "print(set_x)"
      ]
    },
    {
      "cell_type": "code",
      "execution_count": 49,
      "metadata": {
        "colab": {
          "base_uri": "https://localhost:8080/"
        },
        "id": "lGGkHh2F48Xd",
        "outputId": "e48bde2a-b2cd-42d6-c230-ac0f15d3b4c4"
      },
      "outputs": [
        {
          "output_type": "execute_result",
          "data": {
            "text/plain": [
              "{3, 4, 5, 6, 55}"
            ]
          },
          "metadata": {},
          "execution_count": 49
        }
      ],
      "source": [
        "# a.difference(b) zwraca elementy w a, które NIE znajdują się w b\n",
        "set_x = set()\n",
        "set_x.add(1)\n",
        "set_x.add(2)\n",
        "\n",
        "set_of_list.difference(set_x)"
      ]
    },
    {
      "cell_type": "markdown",
      "metadata": {
        "id": "iXJ_ootu48Xf"
      },
      "source": [
        "- Nie będziemy ich tutaj omawiać, ale więcej informacji jest dostępnych pod adresem:\n",
        "https://docs.python.org/3/library/stdtypes.html#set"
      ]
    },
    {
      "cell_type": "markdown",
      "metadata": {
        "id": "iNdycm5548Xk"
      },
      "source": [
        "## Słowniki"
      ]
    },
    {
      "cell_type": "markdown",
      "metadata": {
        "id": "4MpPExWb48Xw"
      },
      "source": [
        "- Słowniki to __nieuporządkowane__ kolekcje par klucz:wartość.\n",
        "— Klucze muszą być ciągami (może być dowolnym niezmiennym typem, ale najlepiej jest używać ciągów).\n",
        "- Wartości mogą być dowolnym typem danych, w tym samymi słownikami (zagnieżdżanie).\n",
        "- Indeksowane za pomocą kluczy."
      ]
    },
    {
      "cell_type": "code",
      "execution_count": 77,
      "metadata": {
        "colab": {
          "base_uri": "https://localhost:8080/"
        },
        "id": "CrA5c6V148Xy",
        "outputId": "7de2c4b1-20a0-425d-ecf4-22b58a50bf18"
      },
      "outputs": [
        {
          "output_type": "stream",
          "name": "stdout",
          "text": [
            "{'k2': 123, 'k1': [0, 1, 2], 'k4': {'insidekey': [100, 200]}}\n"
          ]
        }
      ],
      "source": [
        "# elastyczność przypisywania danych m.in. listy i podsłowniki\n",
        "d = {'k2':123, 'k1':[0,1,2], 'k4':{'insidekey':[100,200]}}\n",
        "\n",
        "print(d)"
      ]
    },
    {
      "cell_type": "code",
      "execution_count": 78,
      "metadata": {
        "colab": {
          "base_uri": "https://localhost:8080/"
        },
        "id": "VgLDFdsy48X1",
        "outputId": "d508e1b1-18d1-428b-be24-415a688e65ea"
      },
      "outputs": [
        {
          "output_type": "execute_result",
          "data": {
            "text/plain": [
              "200"
            ]
          },
          "metadata": {},
          "execution_count": 78
        }
      ],
      "source": [
        "# indeksowanie odbywa się sekwencyjnie\n",
        "d['k4']['insidekey'][1]"
      ]
    },
    {
      "cell_type": "code",
      "execution_count": null,
      "metadata": {
        "id": "78ynTWSJ48X4"
      },
      "outputs": [],
      "source": [
        "# odwołania do słownika\n",
        "d1 = {'k1':[\"a\", \"b\", \"c\"]}\n",
        "\n",
        "print(d1['k1'][2].upper())"
      ]
    },
    {
      "cell_type": "code",
      "execution_count": null,
      "metadata": {
        "id": "gNjwXmL448X5"
      },
      "outputs": [],
      "source": [
        "# obie te metody dają ten sam wynik\n",
        "print(d1['k1'][2].upper())\n",
        "\n",
        "x = d1['k1'][2]\n",
        "print(x.upper())"
      ]
    },
    {
      "cell_type": "code",
      "execution_count": 52,
      "metadata": {
        "colab": {
          "base_uri": "https://localhost:8080/"
        },
        "id": "Ht8eVR8D48X6",
        "outputId": "ba96fb29-a3db-4358-bd1e-690b95869e1d"
      },
      "outputs": [
        {
          "output_type": "stream",
          "name": "stdout",
          "text": [
            "{'k2': 123, 'k1': 'VALUE', 'k4': {'insidekey': [100, 200]}, 'k7': 'NEW'}\n"
          ]
        }
      ],
      "source": [
        "# dodaj, przypisując nową parę, ponownie przypisz\n",
        "d[\"k7\"] = \"NEW\"\n",
        "\n",
        "d[\"k1\"] = \"VALUE\"\n",
        "\n",
        "print(d)"
      ]
    },
    {
      "cell_type": "code",
      "execution_count": 53,
      "metadata": {
        "colab": {
          "base_uri": "https://localhost:8080/"
        },
        "id": "ul-7mm2L48X9",
        "outputId": "83ed1a9e-514c-41f9-81de-1aad02c1db6c"
      },
      "outputs": [
        {
          "output_type": "stream",
          "name": "stdout",
          "text": [
            "dict_keys(['k2', 'k1', 'k4', 'k7'])\n",
            "\n",
            "dict_values([123, 'VALUE', {'insidekey': [100, 200]}, 'NEW'])\n",
            "\n",
            "dict_items([('k2', 123), ('k1', 'VALUE'), ('k4', {'insidekey': [100, 200]}), ('k7', 'NEW')])\n"
          ]
        }
      ],
      "source": [
        "# wywołaj wszystkie klucze/wartości/pary za pomocą metod .keys / .values / .items, .items zwraca krotki\n",
        "print(d.keys())\n",
        "print()\n",
        "print(d.values())\n",
        "print()\n",
        "print(d.items())"
      ]
    },
    {
      "cell_type": "code",
      "execution_count": 54,
      "metadata": {
        "id": "kMiTnuuJ48YF"
      },
      "outputs": [],
      "source": [
        "# użyj in, aby sprawdzić, czy element jest iterowalny\n",
        "d1 = {\"k1\": 10, \"k2\":[1,2,3], \"k3\":345}"
      ]
    },
    {
      "cell_type": "code",
      "execution_count": 55,
      "metadata": {
        "colab": {
          "base_uri": "https://localhost:8080/"
        },
        "id": "3vhNoU2z48YF",
        "outputId": "a65b9719-2ab4-4b23-9940-08842980860d"
      },
      "outputs": [
        {
          "output_type": "execute_result",
          "data": {
            "text/plain": [
              "True"
            ]
          },
          "metadata": {},
          "execution_count": 55
        }
      ],
      "source": [
        "\"k2\" in d1"
      ]
    },
    {
      "cell_type": "code",
      "execution_count": 56,
      "metadata": {
        "colab": {
          "base_uri": "https://localhost:8080/"
        },
        "id": "Da7I8Xga48YG",
        "outputId": "9d81a305-8de5-4852-efa7-b227fb16db70"
      },
      "outputs": [
        {
          "output_type": "execute_result",
          "data": {
            "text/plain": [
              "False"
            ]
          },
          "metadata": {},
          "execution_count": 56
        }
      ],
      "source": [
        "345 in d1"
      ]
    },
    {
      "cell_type": "code",
      "execution_count": 57,
      "metadata": {
        "colab": {
          "base_uri": "https://localhost:8080/"
        },
        "id": "1YKzoNTJ48YG",
        "outputId": "d688d196-be2a-4ed0-9950-40312f07be48"
      },
      "outputs": [
        {
          "output_type": "execute_result",
          "data": {
            "text/plain": [
              "True"
            ]
          },
          "metadata": {},
          "execution_count": 57
        }
      ],
      "source": [
        "345 in d1.values()"
      ]
    },
    {
      "cell_type": "code",
      "execution_count": 58,
      "metadata": {
        "colab": {
          "base_uri": "https://localhost:8080/"
        },
        "id": "N8up7sXy48YH",
        "outputId": "f0255ab3-9a3c-4c46-dc06-f3b079bf3dae"
      },
      "outputs": [
        {
          "output_type": "execute_result",
          "data": {
            "text/plain": [
              "False"
            ]
          },
          "metadata": {},
          "execution_count": 58
        }
      ],
      "source": [
        "345 in d1.keys()"
      ]
    },
    {
      "cell_type": "markdown",
      "metadata": {
        "id": "IgnFRIqe48YP"
      },
      "source": [
        "## Krotki"
      ]
    },
    {
      "cell_type": "markdown",
      "metadata": {
        "id": "5qMfBD0e48YQ"
      },
      "source": [
        "- Krotki są jak listy: elastyczne wprowadzanie danych.\n",
        "- Ale są niezmienne: nie można ich zmienić po utworzeniu.\n",
        "- W związku z tym nie ma metod dołączania/wydłużania/usuwania/wyskakiwania ani ponownego przypisywania elementów dla krotek.\n",
        "- Przydatne do przechowywania wartości w danych, których nie chcesz przypadkowo przypisać ponownie."
      ]
    },
    {
      "cell_type": "code",
      "execution_count": 59,
      "metadata": {
        "id": "QHbBHgN148YR"
      },
      "outputs": [],
      "source": [
        "# niezmienne, ale elastyczne wprowadzanie danych\n",
        "t = (1,2,3)\n",
        "t1 = (1, \"two\", 3)\n",
        "t2 = (\"a\", \"a\", \"b\")"
      ]
    },
    {
      "cell_type": "code",
      "execution_count": 60,
      "metadata": {
        "colab": {
          "base_uri": "https://localhost:8080/"
        },
        "id": "nmZnLyOQ48YS",
        "outputId": "889e03a3-127c-42a6-b508-1bbe5800986e"
      },
      "outputs": [
        {
          "output_type": "execute_result",
          "data": {
            "text/plain": [
              "tuple"
            ]
          },
          "metadata": {},
          "execution_count": 60
        }
      ],
      "source": [
        "type(t) "
      ]
    },
    {
      "cell_type": "code",
      "execution_count": 61,
      "metadata": {
        "colab": {
          "base_uri": "https://localhost:8080/"
        },
        "id": "4FMKPiqa48YS",
        "outputId": "9a34bbdd-ea9e-4a86-fd85-51f190137fc5"
      },
      "outputs": [
        {
          "output_type": "execute_result",
          "data": {
            "text/plain": [
              "True"
            ]
          },
          "metadata": {},
          "execution_count": 61
        }
      ],
      "source": [
        "# może użyć w operatorze, aby sprawdzić, czy element jest w krotce\n",
        "1 in t1"
      ]
    },
    {
      "cell_type": "code",
      "execution_count": 62,
      "metadata": {
        "colab": {
          "base_uri": "https://localhost:8080/",
          "height": 169
        },
        "id": "tDmaRAhz48YT",
        "outputId": "e1fa9653-659b-4964-d9c3-5cd1243f7e88"
      },
      "outputs": [
        {
          "output_type": "error",
          "ename": "AttributeError",
          "evalue": "ignored",
          "traceback": [
            "\u001b[0;31m---------------------------------------------------------------------------\u001b[0m",
            "\u001b[0;31mAttributeError\u001b[0m                            Traceback (most recent call last)",
            "\u001b[0;32m<ipython-input-62-becc35787648>\u001b[0m in \u001b[0;36m<module>\u001b[0;34m\u001b[0m\n\u001b[0;32m----> 1\u001b[0;31m \u001b[0mt1\u001b[0m\u001b[0;34m.\u001b[0m\u001b[0mpop\u001b[0m\u001b[0;34m(\u001b[0m\u001b[0;34m)\u001b[0m\u001b[0;34m\u001b[0m\u001b[0;34m\u001b[0m\u001b[0m\n\u001b[0m",
            "\u001b[0;31mAttributeError\u001b[0m: 'tuple' object has no attribute 'pop'"
          ]
        }
      ],
      "source": [
        "t1.pop()"
      ]
    },
    {
      "cell_type": "code",
      "execution_count": 63,
      "metadata": {
        "colab": {
          "base_uri": "https://localhost:8080/",
          "height": 169
        },
        "id": "xZR0IrgI48YV",
        "outputId": "2c386c46-48b0-4c0a-8682-b33c24029c43"
      },
      "outputs": [
        {
          "output_type": "error",
          "ename": "TypeError",
          "evalue": "ignored",
          "traceback": [
            "\u001b[0;31m---------------------------------------------------------------------------\u001b[0m",
            "\u001b[0;31mTypeError\u001b[0m                                 Traceback (most recent call last)",
            "\u001b[0;32m<ipython-input-63-3d166a200a44>\u001b[0m in \u001b[0;36m<module>\u001b[0;34m\u001b[0m\n\u001b[0;32m----> 1\u001b[0;31m \u001b[0mt1\u001b[0m\u001b[0;34m[\u001b[0m\u001b[0;36m1\u001b[0m\u001b[0;34m]\u001b[0m \u001b[0;34m=\u001b[0m \u001b[0;34m\"ten\"\u001b[0m\u001b[0;34m\u001b[0m\u001b[0;34m\u001b[0m\u001b[0m\n\u001b[0m",
            "\u001b[0;31mTypeError\u001b[0m: 'tuple' object does not support item assignment"
          ]
        }
      ],
      "source": [
        "t1[1] = \"ten\""
      ]
    },
    {
      "cell_type": "code",
      "execution_count": 64,
      "metadata": {
        "colab": {
          "base_uri": "https://localhost:8080/"
        },
        "id": "6x7IQWWs48YV",
        "outputId": "244dc531-2f44-49bc-c375-5daa0e38f9e5"
      },
      "outputs": [
        {
          "output_type": "stream",
          "name": "stdout",
          "text": [
            "The length of the tuple is 3\n"
          ]
        }
      ],
      "source": [
        "# sprawdź długość za pomocą funkcji len()\n",
        "len(t)\n",
        "print(\"The length of the tuple is {x}\".format(x=len(t)))"
      ]
    },
    {
      "cell_type": "code",
      "execution_count": null,
      "metadata": {
        "id": "pj5Q16AB48YW"
      },
      "outputs": [],
      "source": [
        "# liczenie instancji przy użyciu metody .count()\n",
        "t2.count(\"a\")\n",
        "print(\"a occurs {x} times in the tuple\".format(x=t2.count(\"a\")))"
      ]
    },
    {
      "cell_type": "code",
      "execution_count": null,
      "metadata": {
        "id": "foUp3MJw48YY"
      },
      "outputs": [],
      "source": [
        "# znajdź pierwszy indeks za pomocą metody .index()\n",
        "t2.index(\"a\")\n",
        "print(\"a occurs first at index {x} in the tuple\".format(x=t2.index(\"a\")))"
      ]
    },
    {
      "cell_type": "markdown",
      "metadata": {
        "id": "SwOfnDkh48YZ"
      },
      "source": [
        "### Pakowanie i rozpakowywanie krotek"
      ]
    },
    {
      "cell_type": "markdown",
      "metadata": {
        "id": "oR_tCq2i48YZ"
      },
      "source": [
        "- Jednym z najpotężniejszych aspektów krotek jest technika zwana rozpakowywaniem krotek.\n",
        "- To pozwala nam przypisywać zmienne za pomocą przecinków z pojedynczej krotki w kolejności.\n",
        "- Składnia działa jak poniżej, chociaż nawiasy można pominąć, chyba że wymagane jest, aby były jasne."
      ]
    },
    {
      "cell_type": "markdown",
      "metadata": {
        "id": "7UWgR_bX48Ya"
      },
      "source": [
        "Python automatycznie „rozpakowuje” krotkę, wybiera wartości i przypisuje je do zmiennych oddzielonych przecinkami:"
      ]
    },
    {
      "cell_type": "code",
      "execution_count": 65,
      "metadata": {
        "colab": {
          "base_uri": "https://localhost:8080/"
        },
        "id": "2fPiKYrc48Ya",
        "outputId": "7d85a719-a935-4dd8-e4e7-f463507ad1ee"
      },
      "outputs": [
        {
          "output_type": "stream",
          "name": "stdout",
          "text": [
            "1\n",
            "2\n",
            "3\n"
          ]
        }
      ],
      "source": [
        "a, b, c = (1, 2, 3)\n",
        "\n",
        "print(a)\n",
        "print(b)\n",
        "print(c)"
      ]
    },
    {
      "cell_type": "markdown",
      "metadata": {
        "id": "odbAGJyc48Yb"
      },
      "source": [
        "Możemy również przypisać krotkę do zmiennej i wykonać rozpakowanie krotki na zmiennej:"
      ]
    },
    {
      "cell_type": "code",
      "execution_count": 66,
      "metadata": {
        "colab": {
          "base_uri": "https://localhost:8080/"
        },
        "id": "jvZyw2zL48Yc",
        "outputId": "eaf935bb-e63e-4ea7-947b-42f5f8c08100"
      },
      "outputs": [
        {
          "output_type": "stream",
          "name": "stdout",
          "text": [
            "1\n",
            "2\n",
            "3\n"
          ]
        }
      ],
      "source": [
        "t1 = (1,2,3)\n",
        "\n",
        "a, b, c = t1\n",
        "\n",
        "print(a)\n",
        "print(b)\n",
        "print(c)"
      ]
    },
    {
      "cell_type": "markdown",
      "metadata": {
        "id": "CGkfFisA48Yd"
      },
      "source": [
        "Tutaj, nawiasy są implikowane, Python wykonuje operację rozpakowywania krotek w ten sam sposób „pod maską”. <br>\n",
        "Ta notacja przecinkowa jest przydatnym skrótem do przypisywania wielu zmiennych:"
      ]
    },
    {
      "cell_type": "code",
      "execution_count": null,
      "metadata": {
        "id": "A4ZfNewi48Ye"
      },
      "outputs": [],
      "source": [
        "a, b, c = 1, 2, 3\n",
        "\n",
        "print(a)\n",
        "print(b)\n",
        "print(c)"
      ]
    },
    {
      "cell_type": "markdown",
      "metadata": {
        "id": "YqQITCZY48Yf"
      },
      "source": [
        "Krotki można również pakować w ten sam sposób. Ponownie przydatne w przypadku przypisania wielu zmiennych:"
      ]
    },
    {
      "cell_type": "code",
      "execution_count": null,
      "metadata": {
        "id": "UiTIhgb748Yf"
      },
      "outputs": [],
      "source": [
        "print(a)\n",
        "print(b)\n",
        "print(c)\n",
        "\n",
        "t1 = a, b, c\n",
        "\n",
        "print(t1)"
      ]
    },
    {
      "cell_type": "markdown",
      "metadata": {
        "id": "GAkSG4Jp48Yg"
      },
      "source": [
        "## Boole'a i operatory porównania"
      ]
    },
    {
      "cell_type": "markdown",
      "metadata": {
        "id": "IEPT_EF948Yh"
      },
      "source": [
        "Wartości logiczne w Pythonie działają tak samo, jak w matematyce. <br>\n",
        "Można używać:\n",
        "- (<) mniej niż\n",
        "- (>) więcej niż\n",
        "- (<=) mniejsze lub równe\n",
        "- (>=) większe lub równe\n",
        "- (==) równy (pojedynczy = to przypisanie)\n",
        "- (!=) nie równe\n",
        "\n",
        "do oceny równości/nierówności.\n",
        "\n",
        "Użyj słów kluczowych, aby połączyć/zmodyfikować operatory logiczne:\n",
        "- oraz\n",
        "- lub\n",
        "- nie"
      ]
    },
    {
      "cell_type": "code",
      "execution_count": null,
      "metadata": {
        "id": "vAkv08vd48Yi"
      },
      "outputs": [],
      "source": [
        "1 < 2"
      ]
    },
    {
      "cell_type": "code",
      "execution_count": null,
      "metadata": {
        "id": "6dp2dmqr48Yi"
      },
      "outputs": [],
      "source": [
        "1 >= 2"
      ]
    },
    {
      "cell_type": "code",
      "execution_count": null,
      "metadata": {
        "id": "tu7x4yHA48Yj"
      },
      "outputs": [],
      "source": [
        "# i/lub dla łańcuchów porównań logicznych\n",
        "1 < 2 and 10 < 20"
      ]
    },
    {
      "cell_type": "code",
      "execution_count": null,
      "metadata": {
        "id": "GGX8e12U48Y1"
      },
      "outputs": [],
      "source": [
        "True and False"
      ]
    },
    {
      "cell_type": "code",
      "execution_count": null,
      "metadata": {
        "id": "wFGIbqmM48Y2"
      },
      "outputs": [],
      "source": [
        "# i/lub dla łańcuchów porównań logicznych\n",
        "25 > 37 or 55 < 100"
      ]
    },
    {
      "cell_type": "code",
      "execution_count": null,
      "metadata": {
        "id": "ymkiM4C148Y2"
      },
      "outputs": [],
      "source": [
        "True or False"
      ]
    },
    {
      "cell_type": "code",
      "execution_count": 67,
      "metadata": {
        "colab": {
          "base_uri": "https://localhost:8080/"
        },
        "id": "Qh36rZfq48Y4",
        "outputId": "f4d4ed39-7840-444c-e359-b5bd9830ed96"
      },
      "outputs": [
        {
          "output_type": "execute_result",
          "data": {
            "text/plain": [
              "False"
            ]
          },
          "metadata": {},
          "execution_count": 67
        }
      ],
      "source": [
        "# użyj not, aby zwracać przeciwną wartośą logiczną\n",
        "not 100 > 1"
      ]
    },
    {
      "cell_type": "code",
      "execution_count": null,
      "metadata": {
        "id": "jXmh-kT_48Y4"
      },
      "outputs": [],
      "source": [
        "# użyj słowa kluczowego in, aby sprawdzić, czy element jest iterowalny (działa również dla ciągów)\n",
        "print(\"x\" in [1,2,3])\n",
        "\n",
        "print(\"x\" in ['x','y','z'])\n",
        "\n",
        "print(\"a\" in \"a world\")"
      ]
    },
    {
      "cell_type": "code",
      "execution_count": null,
      "metadata": {
        "id": "5j-_E53248Y4"
      },
      "outputs": [],
      "source": []
    },
    {
      "cell_type": "markdown",
      "metadata": {
        "id": "_iqCTi0A48Y6"
      },
      "source": [
        "## Ćwiczenia dotyczące typów i struktur danych"
      ]
    },
    {
      "cell_type": "markdown",
      "metadata": {
        "id": "6Q1jDKAj48Y-"
      },
      "source": [
        "### Pytanie 1\n",
        "Wydrukuj napis Python z tego słownika:"
      ]
    },
    {
      "cell_type": "code",
      "execution_count": 86,
      "metadata": {
        "id": "_WmXUUji48ZA"
      },
      "outputs": [],
      "source": [
        "d = {'start here':1,'k1':[1,2,3,{'k2':[1,2,{'k3':['keep going',{'further':[1,2,3,4,[{'k4':'python'}]]}]}]}]}"
      ]
    },
    {
      "cell_type": "code",
      "execution_count": 92,
      "metadata": {
        "colab": {
          "base_uri": "https://localhost:8080/"
        },
        "id": "pS6WYv0F48ZC",
        "outputId": "abad86c9-3e0f-4df4-e835-44a395eb1c2e"
      },
      "outputs": [
        {
          "output_type": "stream",
          "name": "stdout",
          "text": [
            "python\n"
          ]
        }
      ],
      "source": [
        "# CODE HERE\n",
        "print(d[\"k1\"][3][\"k2\"][2]['k3'][1]['further'][4][0]['k4'])"
      ]
    },
    {
      "cell_type": "markdown",
      "metadata": {
        "id": "58xfXKIh48ZC"
      },
      "source": [
        "### Pytanie 2:\n",
        "Utwórz zagnieżdżony słownik o nazwie sklep ze słownikami podrzędnymi o nazwach „ceny” i „rozmiary_opakowania”. <br>\n",
        "„ceny” powinny zawierać pozycje jako klucze i ceny jako wartości. <br>\n",
        "'pack_sizes' powinien zawierać elementy jako klucze i rozmiary paczek jako wartości. <br>\n",
        "\n",
        "- Pomidory kosztują 87 pensów za opakowanie 6\n",
        "- 500g cukru kosztuje 1,09 £\n",
        "- Gąbki do mycia kosztują 29 pensów za opakowanie 10\n",
        "- Sok kosztuje 1,89 £ za butelkę 1,5 l\n",
        "- Folia kosztuje 1,29 £ za 30 m rolkę\n",
        "\n",
        "Użyj tych samych klawiszy dla obu słowników podrzędnych, np. „pomidor”: 0,87 i „pomidor”: „Opakowanie 6 sztuk”. <br>\n",
        "Użyj podanej listy jako wartości dla pack_sizes (skopiuj i wklej ciągi):"
      ]
    },
    {
      "cell_type": "code",
      "execution_count": null,
      "metadata": {
        "id": "do6BbhkW48ZE"
      },
      "outputs": [],
      "source": [
        "[\"Pack of 6\", \"500g\", \"Pack of 10\", \"1.5l bottle\", \"30m roll\"]\n",
        "\n",
        "shop = {}"
      ]
    },
    {
      "cell_type": "code",
      "execution_count": null,
      "metadata": {
        "id": "gG_BqKOr48ZF"
      },
      "outputs": [],
      "source": [
        "shop"
      ]
    },
    {
      "cell_type": "markdown",
      "metadata": {
        "id": "NVxU55or48ZF"
      },
      "source": [
        "### Pytanie 3\n",
        "\n",
        "Korzystając z zagnieżdżonego słownika powyżej, znajdź cenę następującej listy zakupów:\n",
        "\n",
        "- 18 pomidorów\n",
        "- 2 paczki gąbek do prania\n",
        "- 4,5 litra soku\n",
        "- 4 rolki folii\n",
        "- 2kg cukru\n",
        "\n",
        "Zrób to w tej (dość żmudnej) kolejności:\n",
        "\n",
        "Utwórz 4 listy za pomocą indeksowania:\n",
        "- Pierwszy zawierający koszt paczki każdego elementu o nazwie „pack_cost”, indeksujący słownik „cen”.\n",
        "- Druga zawiera rozmiar paczki każdego elementu o nazwie 'pack', indeksuje słownik 'pack_sizes'.\n",
        "- Trzecia zawierająca ilości każdego przedmiotu o nazwie „quant” (stworzona dla Ciebie).\n",
        "- Czwarty zawierający koszt za opakowanie pomnożony przez ilość dla każdego elementu o nazwie „tsp”, indeksujący „koszt_jednostki” i „opakowanie”.\n",
        "\n",
        "Wydrukuj swoją odpowiedź jako zagnieżdżoną listę 4 list o nazwie porządek.\n",
        "\n",
        "Używając sum, znajdź sumę częściową (bez VAT) jako zmienną o nazwie suma_zamówienia.\n",
        "\n",
        "Znajdź sumę (z VAT) jako zmienną o nazwie order_total (VAT wynosi 20%).\n",
        "\n",
        "(Jest to bardzo żmudny sposób na zrobienie tego, ale pokaże ci, dlaczego pętle for są później bardzo przydatne)"
      ]
    },
    {
      "cell_type": "code",
      "execution_count": null,
      "metadata": {
        "scrolled": true,
        "id": "EIsz1gba48ZG"
      },
      "outputs": [],
      "source": [
        "unit_cost = []\n",
        "\n",
        "pack = []\n",
        "\n",
        "quant = [3,4,2,3,4]\n",
        "\n",
        "tsp = []\n",
        "\n",
        "order = []\n",
        "\n",
        "order_subtotal\n",
        "\n",
        "order_total"
      ]
    },
    {
      "cell_type": "code",
      "execution_count": null,
      "metadata": {
        "id": "iztTC7QS48ZH"
      },
      "outputs": [],
      "source": [
        "print(order)"
      ]
    },
    {
      "cell_type": "code",
      "execution_count": null,
      "metadata": {
        "id": "tZqw-gxq48ZI"
      },
      "outputs": [],
      "source": [
        "print(\"The subtotal is £{:4.2f}.\".format(order_subtotal))"
      ]
    },
    {
      "cell_type": "code",
      "execution_count": null,
      "metadata": {
        "id": "D7L05IW_48ZJ"
      },
      "outputs": [],
      "source": [
        "print(\"The total is £{:4.2f}.\".format(order_total))"
      ]
    },
    {
      "cell_type": "code",
      "execution_count": null,
      "metadata": {
        "id": "Xcqya3sN48ZK"
      },
      "outputs": [],
      "source": []
    },
    {
      "cell_type": "markdown",
      "metadata": {
        "id": "XfT03SH148ZK"
      },
      "source": [
        "## Dalsza lektura\n",
        "- List methods: https://docs.python.org/3/tutorial/datastructures.html\n",
        "- Dictionary methods: https://docs.python.org/3/library/stdtypes.html#typesmapping\n",
        "- Built-in types: https://docs.python.org/3/library/stdtypes.html\n",
        "- Sets: https://docs.python.org/3/library/stdtypes.html#set"
      ]
    },
    {
      "cell_type": "code",
      "execution_count": null,
      "metadata": {
        "id": "_TLxBlhe48ZM"
      },
      "outputs": [],
      "source": []
    }
  ],
  "metadata": {
    "kernelspec": {
      "display_name": "Python 3",
      "language": "python",
      "name": "python3"
    },
    "language_info": {
      "codemirror_mode": {
        "name": "ipython",
        "version": 3
      },
      "file_extension": ".py",
      "mimetype": "text/x-python",
      "name": "python",
      "nbconvert_exporter": "python",
      "pygments_lexer": "ipython3",
      "version": "3.8.6-final"
    },
    "colab": {
      "provenance": [],
      "include_colab_link": true
    }
  },
  "nbformat": 4,
  "nbformat_minor": 0
}