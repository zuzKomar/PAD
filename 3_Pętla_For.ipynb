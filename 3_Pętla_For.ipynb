{
  "cells": [
    {
      "cell_type": "markdown",
      "metadata": {
        "id": "view-in-github",
        "colab_type": "text"
      },
      "source": [
        "<a href=\"https://colab.research.google.com/github/zuzKomar/PAD/blob/main/3_P%C4%99tla_For.ipynb\" target=\"_parent\"><img src=\"https://colab.research.google.com/assets/colab-badge.svg\" alt=\"Open In Colab\"/></a>"
      ]
    },
    {
      "cell_type": "markdown",
      "metadata": {
        "id": "4gD4HoByJE5g"
      },
      "source": [
        "## Iteracja"
      ]
    },
    {
      "cell_type": "markdown",
      "metadata": {
        "id": "Rmp4N4wBJE5m"
      },
      "source": [
        "- Iterowalna: struktura danych zdolna do zwracania swoich elementów pojedynczo, np. lista, krotka, ciąg, słownik (d.keys() zwraca listę).\n",
        "- Iteracja: powtarzanie tej samej operacji (często na każdym elemencie iterowalnego).\n",
        "- np. pomnożenie każdego elementu na liście przez 2 lub pobranie indeksu 0 każdego elementu na liście ciągów."
      ]
    },
    {
      "cell_type": "markdown",
      "metadata": {
        "id": "KvguDa97JE5n"
      },
      "source": [
        "## Pętle For"
      ]
    },
    {
      "cell_type": "markdown",
      "metadata": {
        "id": "1RhDZ_N_JE5o"
      },
      "source": [
        "- Zapętlanie jest przykładem iteracji, w której tę samą operację wykonujesz wielokrotnie, aż do spełnienia pewnego warunku.\n",
        "\n",
        "- Pętle For wykonują jakąś operację FOR każdy element w iterable (każdy znak w łańcuchu lub każdy element na liście itp.), aż nie będzie już więcej elementów w iterable.\n",
        "- Nazywa się to określoną iteracją: gdzie znana jest liczba iteracji.\n",
        "- To jest przykład kodowania DRY (Don't Repeat Yourself), ponieważ pojedyncza pętla for wykonuje wiele operacji za jednym razem."
      ]
    },
    {
      "cell_type": "markdown",
      "metadata": {
        "id": "Gqcor8pMJE5p"
      },
      "source": [
        "### Podstawowa składnia"
      ]
    },
    {
      "cell_type": "code",
      "execution_count": null,
      "metadata": {
        "id": "5eqguoZ8JE5p"
      },
      "outputs": [],
      "source": [
        "# for i in iterable:\n",
        "#     do_something\n",
        "#     do_something_to_i"
      ]
    },
    {
      "cell_type": "markdown",
      "metadata": {
        "id": "DMSRH0dJJE5r"
      },
      "source": [
        "#### Możemy podzielić składnię w następujący sposób:\n",
        "- __i__ jest tutaj zmienną licznika, może to być dowolna, o ile jest spójna: najlepszą praktyką jest używanie nazw takich jak __miasto w miastach__, __element w elementach__ itd., gdzie __miasta__ lub __elementy__ to __iterowalna nazwa__ lub w przypadku jej braku, __i__, w celu czytelności.\n",
        "\n",
        "- __i__ odnosi się do każdego elementu w iteracji w danej iteracji, więc możemy użyć __i__ w bloku zrób_coś.\n",
        "\n",
        "- __in__ to __słowo kluczowe w__, wskazujące odniesienie do następującej iteracji.\n",
        "\n",
        "- __iterable__ to iterowalny element, nad którym chcemy wykonać operację, więc na przykład nazwa listy.\n",
        "\n",
        "- __dwukropek__ wskazuje przepływ sterowania i sygnalizuje wcięcie, kończąc ustawioną frazę.\n",
        "\n",
        "- Blok __do_something__ jest operacją do wykonania na każdym elemencie i tak często jest używany w tym bloku kodu, chociaż nie musi tak być."
      ]
    },
    {
      "cell_type": "markdown",
      "metadata": {
        "id": "dMnVsAlrJE5s"
      },
      "source": [
        "### Przykład"
      ]
    },
    {
      "cell_type": "code",
      "execution_count": null,
      "metadata": {
        "colab": {
          "base_uri": "https://localhost:8080/"
        },
        "id": "zjtLqosXJE5u",
        "outputId": "71f7cd6e-4e38-4bfd-913e-23cf65de7c76"
      },
      "outputs": [
        {
          "output_type": "stream",
          "name": "stdout",
          "text": [
            "thing\n",
            "thing\n",
            "thing\n",
            "thing\n"
          ]
        }
      ],
      "source": [
        "items = [\"hat\", \"boots\", \"jacket\", \"gloves\"]\n",
        "\n",
        "for item in items:\n",
        "    print(\"thing\")\n"
      ]
    },
    {
      "cell_type": "code",
      "execution_count": null,
      "metadata": {
        "colab": {
          "base_uri": "https://localhost:8080/"
        },
        "id": "IPqTLtQoJE5v",
        "outputId": "579c8852-908e-4be4-f6aa-f2a8c696fc55"
      },
      "outputs": [
        {
          "output_type": "stream",
          "name": "stdout",
          "text": [
            "hat\n",
            "boots\n",
            "jacket\n",
            "gloves\n"
          ]
        }
      ],
      "source": [
        "items = [\"hat\", \"boots\", \"jacket\", \"gloves\"]\n",
        "\n",
        "for item in items:\n",
        "    print(item)"
      ]
    },
    {
      "cell_type": "markdown",
      "metadata": {
        "id": "feqV6ARnJE5w"
      },
      "source": [
        "### Funckja range()"
      ]
    },
    {
      "cell_type": "code",
      "execution_count": null,
      "metadata": {
        "id": "eUMffnUfJE5x"
      },
      "outputs": [],
      "source": [
        "# for i in range(start,stop,step):\n",
        "#     do_something\n",
        "#     do_something_to_i"
      ]
    },
    {
      "cell_type": "markdown",
      "metadata": {
        "id": "5KN8rcaCJE5x"
      },
      "source": [
        "- Tutaj wykonujemy operację za pomocą funkcji range(), a więc wykonujemy operację na wszystkich liczbach z podanego zakresu.\n",
        "\n",
        "- range() jest generatorem, a więc zwraca obiekt zakresu, a nie listę, ale nadal można go iterować.\n",
        "\n",
        "- Aby stworzyć listę musimy użyć list(range()).\n",
        "\n",
        "- range() przyjmuje 3 argumenty, start, stop i krok.\n",
        "\n",
        "- Jeżeli podamy __1 argument__, np. range(3), zakres domyślnie start = 0 i step = 1 i przyjmuje argument jako liczbę końcową+1, więc zakres(3) zawiera 0,1,2.\n",
        "\n",
        "- Jeśli określimy __2 argumenty__, np. zakres(5,20), pierwszy to numer początkowy, a drugi to numer stopu+1.\n",
        "\n",
        "- Jeśli określimy __3 argumenty__, trzeci to krok (przyrost), czyli np. zakres (5,10,2) zawiera 5,7,9."
      ]
    },
    {
      "cell_type": "markdown",
      "metadata": {
        "id": "c66PnX52JE5y"
      },
      "source": [
        "### Przykład"
      ]
    },
    {
      "cell_type": "code",
      "execution_count": null,
      "metadata": {
        "colab": {
          "base_uri": "https://localhost:8080/"
        },
        "id": "RfT-VOkFJE5y",
        "outputId": "e29e86b2-2ae9-434a-d9d6-7bec16fa70f5"
      },
      "outputs": [
        {
          "output_type": "stream",
          "name": "stdout",
          "text": [
            "5\n",
            "7\n",
            "9\n",
            "11\n",
            "13\n",
            "15\n",
            "17\n",
            "19\n"
          ]
        }
      ],
      "source": [
        "for i in range(5,20,2):\n",
        "    print(i)"
      ]
    },
    {
      "cell_type": "code",
      "execution_count": null,
      "metadata": {
        "colab": {
          "base_uri": "https://localhost:8080/"
        },
        "id": "jYPquuv9JE5z",
        "outputId": "b57d3bb2-b440-422b-8195-e9676e3fcbd3"
      },
      "outputs": [
        {
          "output_type": "stream",
          "name": "stdout",
          "text": [
            "[0, 1, 2]\n"
          ]
        }
      ],
      "source": [
        "print(list(range(3)))"
      ]
    },
    {
      "cell_type": "code",
      "execution_count": null,
      "metadata": {
        "id": "MdaBlJ-YJE5z"
      },
      "outputs": [],
      "source": [
        "print(list(range(5,20)))"
      ]
    },
    {
      "cell_type": "code",
      "execution_count": null,
      "metadata": {
        "id": "ZoxPnGVqJE5z"
      },
      "outputs": [],
      "source": [
        "print(list(range(5,10,2)))"
      ]
    },
    {
      "cell_type": "markdown",
      "metadata": {
        "id": "PWHo7YUlJE50"
      },
      "source": [
        "### Zastosowanie range(len(iterable))"
      ]
    },
    {
      "cell_type": "code",
      "execution_count": null,
      "metadata": {
        "id": "J2dMaMqXJE50"
      },
      "outputs": [],
      "source": [
        "# for i in range(len(iterable)):\n",
        "#     do_something_to_iterable[i]"
      ]
    },
    {
      "cell_type": "markdown",
      "metadata": {
        "id": "PFYApnrKJE51"
      },
      "source": [
        "- Tutaj i jest każdą liczbą w indeksie listy i możemy indeksować listę w bloku kodu, aby zmodyfikować każdy element.\n",
        "- Generalnie jest to modyfikacja list, ale może mieć inne zastosowania."
      ]
    },
    {
      "cell_type": "markdown",
      "metadata": {
        "id": "-NxX51CrJE51"
      },
      "source": [
        "### Przykład"
      ]
    },
    {
      "cell_type": "code",
      "execution_count": null,
      "metadata": {
        "id": "k763GvIxJE51"
      },
      "outputs": [],
      "source": [
        "items = [\"hat\", \"boots\", \"jacket\", \"gloves\"]\n",
        "\n",
        "counter = 0\n",
        "for i in range(len(items)):\n",
        "    items[i] = items[i].upper()\n",
        "\n",
        "print(items)"
      ]
    },
    {
      "cell_type": "markdown",
      "metadata": {
        "id": "rZZSB7zKJE52"
      },
      "source": [
        "### Pakowanie i rozpakowywanie krotek"
      ]
    },
    {
      "cell_type": "markdown",
      "metadata": {
        "id": "sqNzt4e8JE52"
      },
      "source": [
        "Kilka krótkich powtórek z wykładu o typach danych:\n",
        "- Jednym z najpotężniejszych aspektów krotek jest technika zwana rozpakowywaniem krotek.\n",
        "- Używając poniższej składni przecinka, Python automatycznie wybiera elementy z krotki i przypisuje je do zmiennych.\n",
        "- Możemy to wykorzystać z pętlami for, zwłaszcza podczas iteracji przez słowniki."
      ]
    },
    {
      "cell_type": "code",
      "execution_count": null,
      "metadata": {
        "id": "-A-pvVzyJE53"
      },
      "outputs": [],
      "source": [
        "# Python here 'unpacks' the tuple automatically and picks out the values and assigns them to the comma-separated\n",
        "# variables\n",
        "a, b = (1, 2)\n",
        "\n",
        "print(a)\n",
        "print(b)"
      ]
    },
    {
      "cell_type": "markdown",
      "metadata": {
        "id": "6_fXyfbzJE53"
      },
      "source": [
        "## Pętla for ze słownikami"
      ]
    },
    {
      "cell_type": "markdown",
      "metadata": {
        "id": "W0Wb3tiiJE53"
      },
      "source": [
        "Jest to możliwe na 2 sposoby:\n",
        "1. Możemy iterować przez d.keys(), ponieważ zwraca listę.\n",
        "2. Możemy użyć rozpakowywania krotek do iteracji przez d.items(), ponieważ zwraca listę sparowanych krotek.\n",
        "\n",
        "Druga metoda daje nam swobodę operowania zarówno klawiszami, jak i elementami w bardziej czytelnym formacie."
      ]
    },
    {
      "cell_type": "markdown",
      "metadata": {
        "id": "DgINTbUBJE54"
      },
      "source": [
        "### Przykłady"
      ]
    },
    {
      "cell_type": "markdown",
      "metadata": {
        "id": "dOfS6uPUJE54"
      },
      "source": [
        "#### Method 1"
      ]
    },
    {
      "cell_type": "code",
      "execution_count": null,
      "metadata": {
        "colab": {
          "base_uri": "https://localhost:8080/"
        },
        "id": "dGh-t5qlJE54",
        "outputId": "83ce0566-fd7b-479a-dba8-00c965216868"
      },
      "outputs": [
        {
          "output_type": "execute_result",
          "data": {
            "text/plain": [
              "dict_keys(['tomato', 'sugar', 'sponges', 'juice', 'foil'])"
            ]
          },
          "metadata": {},
          "execution_count": 5
        }
      ],
      "source": [
        "# widzimy tutaj, że metoda .keys() zwraca listę\n",
        "prices = {\"tomato\":0.87, \"sugar\":1.09, \"sponges\":0.29, \"juice\":1.89, \"foil\":1.29}\n",
        "\n",
        "prices.keys()"
      ]
    },
    {
      "cell_type": "code",
      "execution_count": null,
      "metadata": {
        "colab": {
          "base_uri": "https://localhost:8080/"
        },
        "id": "on_JbBR6JE54",
        "outputId": "9d61e859-df81-4c43-f40d-1818adae8bd7"
      },
      "outputs": [
        {
          "output_type": "stream",
          "name": "stdout",
          "text": [
            "['tomato', 'sugar', 'sponges', 'juice', 'foil']\n",
            "[0.87, 1.09, 0.29, 1.89, 1.29]\n"
          ]
        }
      ],
      "source": [
        "# tutaj wybieramy klucze i pozycje ze słownika i dodajemy je do listy\n",
        "\n",
        "# inicjalizuj pustą listę\n",
        "code_list = []\n",
        "price_list = []\n",
        "\n",
        "for key in prices.keys():\n",
        "    \n",
        "    # dołącz sam klucz do code_list\n",
        "    code_list.append(key)\n",
        "    \n",
        "    # użyj klawisza, aby wybrać wartość i dołącz ją do cennika\n",
        "    price_list.append(prices[key])\n",
        "    \n",
        "print(code_list)\n",
        "print(price_list)"
      ]
    },
    {
      "cell_type": "markdown",
      "metadata": {
        "id": "2YVsolLZJE55"
      },
      "source": [
        "#### Method 2"
      ]
    },
    {
      "cell_type": "code",
      "execution_count": null,
      "metadata": {
        "colab": {
          "base_uri": "https://localhost:8080/"
        },
        "id": "1dZ_t3U1JE55",
        "outputId": "8a86847a-2f29-4236-8e35-a8c5cbfa87fb"
      },
      "outputs": [
        {
          "output_type": "execute_result",
          "data": {
            "text/plain": [
              "dict_items([('tomato', 0.87), ('sugar', 1.09), ('sponges', 0.29), ('juice', 1.89), ('foil', 1.29)])"
            ]
          },
          "metadata": {},
          "execution_count": 7
        }
      ],
      "source": [
        "# widzimy tutaj, że metoda .items() zwraca listę sparowanych krotek\n",
        "prices.items()"
      ]
    },
    {
      "cell_type": "code",
      "execution_count": null,
      "metadata": {
        "id": "UXD9_jJSJE56"
      },
      "outputs": [],
      "source": [
        "# robimy tę samą operację, ale tym razem używając rozpakowywania krotek na d.keys\n",
        "code_list = []\n",
        "price_list = []\n",
        "\n",
        "for key, value in prices.items():\n",
        "    \n",
        "    # ta linia jest taka sama jak powyżej\n",
        "    code_list.append(key)\n",
        "    \n",
        "    # tutaj również uzyskujemy dostęp do wartości i bezpośrednio dołączamy ją do cennika\n",
        "    price_list.append(value)\n",
        "    \n",
        "print(code_list)\n",
        "print(price_list)"
      ]
    },
    {
      "cell_type": "markdown",
      "metadata": {
        "id": "CAbVf3ZuJE56"
      },
      "source": [
        "Możemy również wykonać inne operacje za pomocą rozpakowywania krotek:"
      ]
    },
    {
      "cell_type": "code",
      "execution_count": null,
      "metadata": {
        "colab": {
          "base_uri": "https://localhost:8080/"
        },
        "id": "SsPbhE4KJE56",
        "outputId": "0ca40248-2fc2-4aac-f393-f195c11c5686"
      },
      "outputs": [
        {
          "output_type": "stream",
          "name": "stdout",
          "text": [
            "Item Code: tomato\n",
            "Price: £0.87\n",
            "\n",
            "Item Code: sugar\n",
            "Price: £1.09\n",
            "\n",
            "Item Code: sponges\n",
            "Price: £0.29\n",
            "\n",
            "Item Code: juice\n",
            "Price: £1.89\n",
            "\n",
            "Item Code: foil\n",
            "Price: £1.29\n",
            "\n"
          ]
        }
      ],
      "source": [
        "prices = {\"tomato\":0.87, \"sugar\":1.09, \"sponges\":0.29, \"juice\":1.89, \"foil\":1.29}\n",
        "\n",
        "for key, value in prices.items():\n",
        "    print(\"Item Code: {}\\nPrice: £{}\\n\".format(key,value))"
      ]
    },
    {
      "cell_type": "markdown",
      "metadata": {
        "id": "PixyuLtGJE57"
      },
      "source": [
        "## Instrukcje If w pętlach for\n",
        "- Możemy wykorzystać przepływ sterowania w pętlach for do wykonywania różnych operacji w zależności od warunków."
      ]
    },
    {
      "cell_type": "markdown",
      "metadata": {
        "id": "k19bkNmQJE57"
      },
      "source": [
        "### Przykład\n",
        "- Tutaj używamy przykładu kalkulatora BMI, aby zademonstrować kombinację kilku pojęć.\n",
        "- Wysokości są w metrach, a wagi w kilogramach dla ułatwienia obliczeń."
      ]
    },
    {
      "cell_type": "code",
      "execution_count": null,
      "metadata": {
        "colab": {
          "base_uri": "https://localhost:8080/"
        },
        "id": "amhHQKVVJE57",
        "outputId": "c4040660-697b-4781-b200-a404b039e05f"
      },
      "outputs": [
        {
          "output_type": "stream",
          "name": "stdout",
          "text": [
            "This is the list of BMIs: [20.571428571428573, 25.390218522372525, 30.905885854261584, 23.938989774631512, 32.488628979857054, 18.80920625149619]\n",
            "\n",
            "You're in the healthy weight range. Your BMI is 20.6.\n",
            "You're in the overweight range. Your BMI is 25.4.\n",
            "You're in the obese range. Your BMI is 30.9.\n",
            "You're in the healthy weight range. Your BMI is 23.9.\n",
            "You're in the obese range. Your BMI is 32.5.\n",
            "You're in the healthy weight range. Your BMI is 18.8.\n"
          ]
        }
      ],
      "source": [
        "# kodujemy listę wzrostów i wag jako listę krotek\n",
        "heights_weights = [(1.75, 63),(1.55, 61),(2.09, 135),(1.71, 70),(1.71, 95),(1.71, 55)]\n",
        "\n",
        "\n",
        "# ustawiamy bmis jako pustą listę, do której dołączamy wartości bmi\n",
        "bmis = []\n",
        "\n",
        "\n",
        "# używamy rozpakowywania krotek, aby dodać wartości bmi do bmis\n",
        "for height, weight in heights_weights:\n",
        "    bmis.append(weight/height**2)\n",
        "\n",
        "\n",
        "# tutaj wypisujemy bmis, aby wyświetlić listę pośrednią (zwykle byśmy tego nie robili)\n",
        "print(\"This is the list of BMIs: {}\\n\".format(bmis))\n",
        "\n",
        "\n",
        "# zapętlamy listę bmi, aby przypisać wartości do poprawnej wiadomości\n",
        "for bmi in bmis:\n",
        "    if bmi < 18.5:\n",
        "        print(\"You're in the underweight range. Your BMI is {:3.1f}.\".format(bmi))\n",
        "    elif bmi <= 24.9:\n",
        "        print(\"You're in the healthy weight range. Your BMI is {:3.1f}.\".format(bmi))\n",
        "    elif bmi <= 29.9:\n",
        "        print(\"You're in the overweight range. Your BMI is {:3.1f}.\".format(bmi))\n",
        "    elif bmi <= 39.9:\n",
        "        print(\"You're in the obese range. Your BMI is {:3.1f}.\".format(bmi))"
      ]
    },
    {
      "cell_type": "markdown",
      "metadata": {
        "id": "0bT6qojRJE58"
      },
      "source": [
        "Możemy to teraz zrobić w pojedynczej pętli for:"
      ]
    },
    {
      "cell_type": "code",
      "execution_count": null,
      "metadata": {
        "id": "tN4mW0_3JE58"
      },
      "outputs": [],
      "source": [
        "heights_weights = [(1.83, 85),(1.55, 61),(2.09, 135),(1.71, 70),(1.71, 95),(1.71, 55)]\n",
        "\n",
        "for height, weight in heights_weights:\n",
        "    \n",
        "    # tutaj obliczamy bmi w pętli for przy użyciu sparowanych wartości krotek przed przekazaniem wartości bmi\n",
        "    # do kolejnych instrukcji if\n",
        "    bmi = weight/height**2\n",
        "\n",
        "    if bmi < 18.5:\n",
        "        print(\"You're in the underweight range. Your BMI is {:3.1f}\".format(bmi))\n",
        "    elif bmi <= 24.9:\n",
        "        print(\"You're in the healthy weight range. Your BMI is {:3.1f}\".format(bmi))\n",
        "    elif bmi <= 29.9:\n",
        "        print(\"You're in the overweight range. Your BMI is {:3.1f}\".format(bmi))\n",
        "    elif bmi <= 39.9:\n",
        "        print(\"You're in the obese range. Your BMI is {:3.1f}\".format(bmi))"
      ]
    },
    {
      "cell_type": "code",
      "execution_count": null,
      "metadata": {
        "id": "11Hc2J2cJE59"
      },
      "outputs": [],
      "source": []
    },
    {
      "cell_type": "markdown",
      "metadata": {
        "id": "irn8h6SfJE59"
      },
      "source": [
        "## Ćwiczenie 1\n",
        "\n",
        "Napisz pętlę for, aby policzyć liczby parzyste i nieparzyste z zakresu od 1 do 100."
      ]
    },
    {
      "cell_type": "code",
      "execution_count": null,
      "metadata": {
        "colab": {
          "base_uri": "https://localhost:8080/"
        },
        "id": "bbzeuJ61JE59",
        "outputId": "74757baf-5e49-4f0e-ec69-eac9621b30a5"
      },
      "outputs": [
        {
          "output_type": "stream",
          "name": "stdout",
          "text": [
            "Number of Even Numbers: 50\n",
            "Number of Odd Numbers: 50\n"
          ]
        }
      ],
      "source": [
        "count_odd = 0\n",
        "count_even = 0\n",
        "\n",
        "# CODE HERE\n",
        "for i in range(1,101):\n",
        "    if i % 2 == 0:\n",
        "      count_odd += 1\n",
        "    else:\n",
        "      count_even += 1\n",
        "\n",
        "print(\"Number of Even Numbers: {}\".format(count_even))\n",
        "print(\"Number of Odd Numbers: {}\".format(count_odd))"
      ]
    },
    {
      "cell_type": "code",
      "execution_count": null,
      "metadata": {
        "id": "fGgvkaoKJE59"
      },
      "outputs": [],
      "source": []
    },
    {
      "cell_type": "markdown",
      "metadata": {
        "id": "LsxSbrvSJE5-"
      },
      "source": [
        "## Słowa kluczowe Pass, Break i Continue"
      ]
    },
    {
      "cell_type": "markdown",
      "metadata": {
        "id": "PhAeNL43JE5-"
      },
      "source": [
        "- Słowo kluczowe pass służy jako symbol zastępczy w pustej pętli, oznacza „nic nie rób”.\n",
        "- Używamy pass, gdy chcemy mieć pętlę (lub funkcję) w naszym kodzie, ale nie chcemy jej teraz pisać, ale nadal chcemy mieć możliwość uruchomienia reszty naszego kodu.\n",
        "- Słowo kluczowe break kończy pętlę po jej uruchomieniu.\n",
        "- Słowo kluczowe continue przesuwa się na początek najbliższej otaczającej pętli i przechodzi do następnej iteracji.\n",
        "— Zwykle używamy ich wewnątrz warunku, aby zakończyć pętlę lub pominąć iterację, gdy warunek zostanie spełniony."
      ]
    },
    {
      "cell_type": "markdown",
      "metadata": {
        "id": "v5SfcUXdJE5_"
      },
      "source": [
        "### Przykłady"
      ]
    },
    {
      "cell_type": "code",
      "execution_count": null,
      "metadata": {
        "colab": {
          "base_uri": "https://localhost:8080/"
        },
        "id": "uANAlwsQJE5_",
        "outputId": "fe5ad7a4-0b0d-4a28-db4b-6f39d5f6ed14"
      },
      "outputs": [
        {
          "output_type": "stream",
          "name": "stdout",
          "text": [
            "10 5\n",
            "10 5\n",
            "10 5\n",
            "10 5\n",
            "10 5\n",
            "10 5\n",
            "10 5\n",
            "10 5\n",
            "10 5\n",
            "10 5\n",
            "10 5\n",
            "10 5\n",
            "10 5\n",
            "10 5\n",
            "10 5\n",
            "10 5\n",
            "10 5\n",
            "10 5\n",
            "10 5\n",
            "10 5\n",
            "10 5\n"
          ]
        }
      ],
      "source": [
        "x,y = 10,5\n",
        "\n",
        "for i in range(20):\n",
        "    print(x,y)\n",
        "    pass\n",
        "\n",
        "print(x,y)"
      ]
    },
    {
      "cell_type": "code",
      "execution_count": null,
      "metadata": {
        "colab": {
          "base_uri": "https://localhost:8080/"
        },
        "id": "0GMACBQQJE5_",
        "outputId": "6e8e327f-81e6-495d-b382-122d3d5c4f24"
      },
      "outputs": [
        {
          "output_type": "stream",
          "name": "stdout",
          "text": [
            "1\n",
            "2\n",
            "3\n",
            "4\n",
            "6\n",
            "7\n",
            "8\n",
            "9\n",
            "11\n"
          ]
        }
      ],
      "source": [
        "for i in range(12):\n",
        "    if i%5 == 0:\n",
        "        continue\n",
        "    print(i)"
      ]
    },
    {
      "cell_type": "code",
      "execution_count": null,
      "metadata": {
        "id": "O856nCAeJE5_"
      },
      "outputs": [],
      "source": [
        "for i in range(1,12):\n",
        "    if i%5 == 0:\n",
        "        break\n",
        "    else:\n",
        "        print(i)"
      ]
    },
    {
      "cell_type": "code",
      "execution_count": null,
      "metadata": {
        "id": "G9-oJ2J6JE6A"
      },
      "outputs": [],
      "source": []
    },
    {
      "cell_type": "markdown",
      "metadata": {
        "id": "w6Lbhi4aJE6A"
      },
      "source": [
        "## Ćwiczenie 2\n",
        "\n",
        "Korzystając ze słownika nazw i listy order_list pokazanych poniżej, napisz program spełniający następujące warunki:\n",
        "- Powinna generować zamówienie poprzez sekwencyjne dodawanie pozycji do paragonu z listy zamówień.\n",
        "- Przy każdej iteracji powinien drukować „Current Total: £x”\n",
        "- Jeśli wartość zamówienia przekracza wartość budżetu, należy zaprzestać dodawania pozycji i wydrukować \"Przekroczono budżet!\".\n",
        "- Jeśli nie, za każdym razem, gdy dodaje elementy, powinien:\n",
        "     - Print \"Dodanie *pełnej nazwy towaru* (ilość)\".\n",
        "     - Odejmij cenę od budżetu.\n",
        "     - Dodaj cenę do running_total.\n",
        "- Powinien wydrukować bieżącą_łączną, zamówienie i budżet sformatowane w wyciągach do wydruku (zrobione za Ciebie)."
      ]
    },
    {
      "cell_type": "code",
      "execution_count": null,
      "metadata": {
        "colab": {
          "base_uri": "https://localhost:8080/"
        },
        "id": "ZeSWPdJCJE6A",
        "outputId": "0bf71776-f4c5-4250-fa84-31a350d1a01d"
      },
      "outputs": [
        {
          "output_type": "stream",
          "name": "stdout",
          "text": [
            "Dodanie Tomatoes 4\n",
            "Dodanie Sugar 3\n",
            "Dodanie Washing Sponges 4\n",
            "Dodanie Juice 1\n",
            "Przekroczono budżet!\n",
            "The total for the order is: £ 9.80\n",
            "The items in the order are: [{'product': 'Tomatoes', 'cost': 3.48}, {'product': 'Sugar', 'cost': 3.27}, {'product': 'Washing Sponges', 'cost': 1.16}, {'product': 'Juice', 'cost': 1.89}]\n",
            "The remaining budget is: £ 0.20\n"
          ]
        }
      ],
      "source": [
        "order_list = [(\"tom\", 0.87, 4), \n",
        "         (\"sug\", 1.09, 3), \n",
        "         (\"ws\", 0.29, 4), \n",
        "         (\"juc\", 1.89, 1), \n",
        "         (\"fo\", 1.29, 2)]\n",
        "\n",
        "names = {\"tom\":\"Tomatoes\", \n",
        "         \"sug\":\"Sugar\", \n",
        "         \"ws\":\"Washing Sponges\", \n",
        "         \"juc\":\"Juice\", \n",
        "         \"fo\":\"Foil\"}\n",
        "\n",
        "budget = 10.00\n",
        "running_total = 0\n",
        "receipt = []\n",
        "\n",
        "# CODE HERE\n",
        "for i in range(len(order_list)):\n",
        "  cost = round((order_list[i][1] * order_list[i][2]), 2)\n",
        "  print('Dodanie', names[order_list[i][0]], order_list[i][2])\n",
        "  budget -= cost\n",
        "  running_total += cost\n",
        "  receipt.append({'product': names[order_list[i][0]], 'cost': cost})\n",
        "\n",
        "  if (order_list[i+1][1] * order_list[i+1][2]) > budget:\n",
        "    print('Przekroczono budżet!')\n",
        "    break;\n",
        "    \n",
        "        \n",
        "print(\"The total for the order is: £{:5.2f}\".format(running_total))\n",
        "print(\"The items in the order are: {}\".format(receipt))\n",
        "print(\"The remaining budget is: £{:5.2f}\".format(budget))"
      ]
    },
    {
      "cell_type": "code",
      "execution_count": null,
      "metadata": {
        "id": "WieVX9BqJE6B"
      },
      "outputs": [],
      "source": []
    },
    {
      "cell_type": "markdown",
      "metadata": {
        "id": "NbqWumoVJE6B"
      },
      "source": [
        "## Zip i Enumerate"
      ]
    },
    {
      "cell_type": "markdown",
      "metadata": {
        "id": "oCln2zsrJE6B"
      },
      "source": [
        "- Funkcja zip() łączy elementy iterowalne w krotki, ale zip jest iteratorem zwracającym obiekt zip, który następnie musi zostać przetworzony lub przekonwertowany na listę w celu wyświetlenia.\n",
        "- Można rozpakować do krotek, dodając argument * wewnątrz zip().\n",
        "- enumerate() zwraca iterator krotek zawierających (indeks,pozycja).\n",
        "- Jest to przydatne w przypadku operacji na indeksach i elementach: łączenie pętli for na iterowalnej z pętlą for na zakresie(len(iterable))."
      ]
    },
    {
      "cell_type": "markdown",
      "metadata": {
        "id": "52q1L1RtJE6B"
      },
      "source": [
        "### Przykłady"
      ]
    },
    {
      "cell_type": "code",
      "execution_count": null,
      "metadata": {
        "colab": {
          "base_uri": "https://localhost:8080/"
        },
        "id": "ta85GT5PJE6G",
        "outputId": "8ebb4c95-a2fd-4b9e-9845-e917bbe0bd44"
      },
      "outputs": [
        {
          "output_type": "stream",
          "name": "stdout",
          "text": [
            "[('tomato', 0.87), ('sugar', 1.09), ('sponges', 0.29), ('juice', 1.89), ('foil', 1.29)]\n"
          ]
        }
      ],
      "source": [
        "# zip() tworzy obiekt zip, który należy powtórzyć lub wyświetlić, aby go wyświetlić\n",
        "\n",
        "items = [\"tomato\", \"sugar\", \"sponges\", \"juice\", \"foil\"]\n",
        "prices = [0.87, 1.09, 0.29, 1.89, 1.29]\n",
        "\n",
        "items_and_prices = zip(items, prices)\n",
        "\n",
        "print(list(items_and_prices))\n"
      ]
    },
    {
      "cell_type": "code",
      "execution_count": null,
      "metadata": {
        "colab": {
          "base_uri": "https://localhost:8080/"
        },
        "id": "0MJK8C84JE6G",
        "outputId": "d1a90703-e7df-4af1-fb2d-926c22cef61e"
      },
      "outputs": [
        {
          "output_type": "stream",
          "name": "stdout",
          "text": [
            "tomato 0.87\n",
            "sugar 1.09\n",
            "sponges 0.29\n",
            "juice 1.89\n",
            "foil 1.29\n"
          ]
        }
      ],
      "source": [
        "for item, price in zip(items, prices):\n",
        "    print(item, price)"
      ]
    },
    {
      "cell_type": "code",
      "execution_count": null,
      "metadata": {
        "id": "dN2H3VLMJE6H"
      },
      "outputs": [],
      "source": [
        "# możemy rozpakować obiekt zip do krotek używając * wewnątrz wywołania zip\n",
        "\n",
        "items_and_prices = zip(items, prices) #tworzenie obiektu zip\n",
        "\n",
        "tuple_of_items, tuple_of_prices = zip(*items_and_prices) # rozpakowywanie obiektu zip\n",
        "print(tuple_of_items)\n",
        "print(tuple_of_prices)"
      ]
    },
    {
      "cell_type": "code",
      "execution_count": null,
      "metadata": {
        "id": "xwzbjQwdJE6H"
      },
      "outputs": [],
      "source": [
        "# może iterować i wykonywać operacje na obiekcie zip\n",
        "\n",
        "for item, price in zip(items, prices):\n",
        "    print(\"The price of {} is £{}\".format(item, price))"
      ]
    },
    {
      "cell_type": "code",
      "execution_count": null,
      "metadata": {
        "id": "R7oDptVbJE6H"
      },
      "outputs": [],
      "source": [
        "# enumerate() podaje zarówno elementy, jak i ich indeksy, na których można operować\n",
        "\n",
        "items = [\"hat\", \"scarf\", \"coat\", \"gloves\"]\n",
        "\n",
        "\n",
        "for index, item in enumerate(items):\n",
        "    print(index, item)"
      ]
    },
    {
      "cell_type": "code",
      "execution_count": null,
      "metadata": {
        "id": "5RYoHF-FJE6I"
      },
      "outputs": [],
      "source": [
        "# wyliczyć obiekty mogą być również pokazywane na listach/krotkach itp.\n",
        "print(tuple(enumerate(items)))"
      ]
    },
    {
      "cell_type": "markdown",
      "metadata": {
        "id": "UaFAUt3LJE6I"
      },
      "source": [
        "## List Comprehensions"
      ]
    },
    {
      "cell_type": "markdown",
      "metadata": {
        "id": "d5S9PhvoJE6I"
      },
      "source": [
        "- List comprehension to znacznie wydajniejszy sposób pisania pętli for, która generuje lub modyfikuje listę.\n",
        "- Są bardziej odpowiednie, gdy użyjemy .append() na liście wewnątrz pętli for lub będziemy iterować po indeksie listy, aby zmodyfikować każdy element, w przeciwnym razie pętla for jest lepsza.\n",
        "- Złożone pętle operujące na listach, takie jak kalkulator BMI, nie nadają się do rozumienia list: byłyby zbyt skomplikowane, aby je łatwo odczytać.\n",
        "- Są napisane w jednej linii, a składnia w porównaniu do pętli for wygląda następująco:"
      ]
    },
    {
      "cell_type": "code",
      "execution_count": null,
      "metadata": {
        "id": "Z0TkJp_PJE6J"
      },
      "outputs": [],
      "source": [
        "# for item in iterable:\n",
        "#     do_something\n",
        "\n",
        "# [do_something for item in iterable]"
      ]
    },
    {
      "cell_type": "markdown",
      "metadata": {
        "id": "nx3KBzJ4JE6J"
      },
      "source": [
        "### Przykłady"
      ]
    },
    {
      "cell_type": "markdown",
      "metadata": {
        "id": "LLFMjYVoJE6J"
      },
      "source": [
        "To:"
      ]
    },
    {
      "cell_type": "code",
      "execution_count": null,
      "metadata": {
        "id": "4xNam2oSJE6J"
      },
      "outputs": [],
      "source": [
        "squares = []\n",
        "\n",
        "for i in range(0):\n",
        "    squares.append(i**2)\n",
        "\n",
        "print(squares)"
      ]
    },
    {
      "cell_type": "markdown",
      "metadata": {
        "id": "TiCvaiFdJE6K"
      },
      "source": [
        "jest równoznaczne temu:"
      ]
    },
    {
      "cell_type": "code",
      "execution_count": null,
      "metadata": {
        "id": "KRZvzTOTJE6K"
      },
      "outputs": [],
      "source": [
        "squares = [i**2 for i in range(10)]\n",
        "\n",
        "print(squares)"
      ]
    },
    {
      "cell_type": "markdown",
      "metadata": {
        "id": "jqPI4yceJE6K"
      },
      "source": [
        "## List Comprehensions z warunkami"
      ]
    },
    {
      "cell_type": "markdown",
      "metadata": {
        "id": "_a9T76ZFJE6L"
      },
      "source": [
        "- Instrukcje warunkowe w listach składanych są 2 typów.\n",
        "- Przy dodawaniu tylko instrukcji if, warunek następuje po instrukcji for.\n",
        "- Podczas dodawania instrukcji if/else, warunek poprzedza instrukcję for."
      ]
    },
    {
      "cell_type": "markdown",
      "metadata": {
        "id": "1KG-jIRAJE6L"
      },
      "source": [
        "### Przykłady"
      ]
    },
    {
      "cell_type": "markdown",
      "metadata": {
        "id": "gpkiKnDhJE6L"
      },
      "source": [
        "To:"
      ]
    },
    {
      "cell_type": "code",
      "execution_count": null,
      "metadata": {
        "id": "PkNER7BMJE6L"
      },
      "outputs": [],
      "source": [
        "squared_threes = []\n",
        "\n",
        "for x in range(10):\n",
        "    if x%3 == 0:\n",
        "        squared_threes.append(x**2)\n",
        "\n",
        "print(squared_threes)"
      ]
    },
    {
      "cell_type": "markdown",
      "metadata": {
        "id": "bjzTIMwvJE6M"
      },
      "source": [
        "jest równoważne temu:"
      ]
    },
    {
      "cell_type": "code",
      "execution_count": null,
      "metadata": {
        "id": "DjYxBwgKJE6M"
      },
      "outputs": [],
      "source": [
        "squared_threes = [x**2 for x in range(10) if x%3==0]\n",
        "\n",
        "print(squared_threes)"
      ]
    },
    {
      "cell_type": "markdown",
      "metadata": {
        "id": "RT1OX-zFJE6M"
      },
      "source": [
        "Stosowanie if/else:"
      ]
    },
    {
      "cell_type": "code",
      "execution_count": null,
      "metadata": {
        "id": "lxlP5nPgJE6M"
      },
      "outputs": [],
      "source": [
        "squares_and_cubes = []\n",
        "\n",
        "for x in range(10):\n",
        "    if x%3 == 0:\n",
        "        squares_and_cubes.append(x**3)\n",
        "    else:\n",
        "        squares_and_cubes.append(x**2)\n",
        "\n",
        "print(squares_and_cubes)"
      ]
    },
    {
      "cell_type": "markdown",
      "metadata": {
        "id": "hdgqwRKbJE6N"
      },
      "source": [
        "zamienia się w:"
      ]
    },
    {
      "cell_type": "code",
      "execution_count": null,
      "metadata": {
        "id": "dx-SBPgoJE6N"
      },
      "outputs": [],
      "source": [
        "squares_and_cubes = [x**3 if x%3==0 else x**2 for x in range(10)]\n",
        "\n",
        "print(squares_and_cubes)"
      ]
    },
    {
      "cell_type": "code",
      "execution_count": null,
      "metadata": {
        "id": "S5l7s3fDJE6O"
      },
      "outputs": [],
      "source": []
    },
    {
      "cell_type": "markdown",
      "metadata": {
        "id": "IDEpHmerJE6O"
      },
      "source": [
        "## Ćwiczenie 3\n",
        "- Utwórz list comprehension, która podnosi do kwadratu argumenty parzyste i dodaje 1 do i podnosi do kwadratu nieparzyste argumenty\n",
        "- Przetestuj na my_list"
      ]
    },
    {
      "cell_type": "code",
      "execution_count": null,
      "metadata": {
        "id": "lhtkj2xAJE6O"
      },
      "outputs": [],
      "source": [
        "my_list = [34,52,71,39,22,73,92]\n",
        "\n",
        "# CODE HERE\n",
        "squares = [x**2 if x%2==0 else (x + 1)**2 for x in my_list]"
      ]
    },
    {
      "cell_type": "markdown",
      "metadata": {
        "id": "5iKjkYUwJE6O"
      },
      "source": [
        "## Ćwiczenie 4\n",
        "Przefiltruj shop_dict za pomocą list comprehension, aby znaleźć tylko przedmioty o wartości powyżej 1,00\n",
        "\n",
        "Przypisz je do listy o nazwie filter_shop według ich pełnych nazw, a nie kodów, używając names_dict."
      ]
    },
    {
      "cell_type": "code",
      "execution_count": null,
      "metadata": {
        "colab": {
          "base_uri": "https://localhost:8080/"
        },
        "id": "BlfpQV00JE6P",
        "outputId": "e48a6b1d-da66-4b5f-bcb7-f57bcd514fc6"
      },
      "outputs": [
        {
          "output_type": "stream",
          "name": "stdout",
          "text": [
            "['Sugar', 'Coca-Cola', 'Coca-Cola Zero']\n"
          ]
        }
      ],
      "source": [
        "shop_dict = {\"tom\":0.87,\n",
        "        \"sug\":1.09,\n",
        "        \"ws\":0.29,\n",
        "        \"cc\":1.89,\n",
        "        \"ccz\":1.29}\n",
        "\n",
        "names_dict = {\"tom\":\"Tomatoes\", \n",
        "         \"sug\":\"Sugar\", \n",
        "         \"ws\":\"Washing Sponges\", \n",
        "         \"cc\":\"Coca-Cola\", \n",
        "         \"ccz\":\"Coca-Cola Zero\"}\n",
        "\n",
        "# CODE HERE\n",
        "filtered_shop = [names_dict[x]  for x in shop_dict.keys() if shop_dict[x] > 1.00]\n",
        "\n",
        "print(filtered_shop)"
      ]
    },
    {
      "cell_type": "code",
      "execution_count": null,
      "metadata": {
        "id": "E9zLkOEOJE6P"
      },
      "outputs": [],
      "source": []
    },
    {
      "cell_type": "markdown",
      "metadata": {
        "id": "oVYJbvqSJE6P"
      },
      "source": [
        "## Zagnieżdzone pętle For"
      ]
    },
    {
      "cell_type": "markdown",
      "metadata": {
        "id": "AY_qJglmJE6P"
      },
      "source": [
        "— Pętle for mogą być używane w ramach pętli for, znanych jako zagnieżdżone pętle for.\n",
        "- Przepływ sterowania w pętlach zagnieżdżonych oznacza, że pętla zewnętrzna wykonuje wszystkie iteracje pętli wewnętrznej na swoim pierwszym elemencie przed przejściem do następnej iteracji i powtórzeniem.\n",
        "- Istnieje również listowy odpowiednik zagnieżdżonej pętli for.\n",
        "- Ten pomysł zagnieżdżania pętli może być używany w nieskończoność (pętla for w pętli for w pętli for itp. itp.), ale poza pojedynczym zagnieżdżeniem staje się bardzo skomplikowana do odczytania i zrozumienia.\n",
        "- Należy ich unikać tam, gdzie to możliwe, ponieważ im więcej zagnieżdżeń występuje, tym mniej wydajny jest kod.\n",
        "- Jednak istnieją pewne uzasadnione przypadki ich użycia - częstym przykładem jest iteracja na wielu listach."
      ]
    },
    {
      "cell_type": "code",
      "execution_count": 1,
      "metadata": {
        "id": "fd_KM777JE6Q",
        "colab": {
          "base_uri": "https://localhost:8080/"
        },
        "outputId": "4272abb2-dcc6-4810-b853-80136991a44c"
      },
      "outputs": [
        {
          "output_type": "stream",
          "name": "stdout",
          "text": [
            "Outer Loop Operation: 1\n",
            "Inner Loop Operation: 1\n",
            "Inner Loop Operation: 2\n",
            "Inner Loop Operation: 3\n",
            "\n",
            "Outer Loop Operation: 2\n",
            "Inner Loop Operation: 1\n",
            "Inner Loop Operation: 2\n",
            "Inner Loop Operation: 3\n",
            "\n",
            "Outer Loop Operation: 3\n",
            "Inner Loop Operation: 1\n",
            "Inner Loop Operation: 2\n",
            "Inner Loop Operation: 3\n",
            "\n"
          ]
        }
      ],
      "source": [
        "# podstawowa składnia, operacje w pętli wewnętrznej są wykonywane DLA każdej operacji w pętli zewnętrznej\n",
        "for i in range(1,4):\n",
        "    print(\"Outer Loop Operation: {}\".format(i))\n",
        "    \n",
        "    for j in range(1,4):\n",
        "        print(\"Inner Loop Operation: {}\".format(j))\n",
        "    \n",
        "    print() # nowa linijka"
      ]
    },
    {
      "cell_type": "code",
      "execution_count": null,
      "metadata": {
        "id": "J7iU-oibJE6Q"
      },
      "outputs": [],
      "source": [
        "#używamy countera\n",
        "mylist = []\n",
        "\n",
        "for x in [2,3,4]:\n",
        "    for y in [1,2,3]:\n",
        "        mylist.append(x**y)\n",
        "\n",
        "print(mylist)"
      ]
    },
    {
      "cell_type": "code",
      "execution_count": null,
      "metadata": {
        "id": "R1D5-NJyJE6Q"
      },
      "outputs": [],
      "source": [
        "# list comprehension składnia: najpierw operacja, a następnie polecenia for\n",
        "[x**y for x in [2,3,4] for y in [1,2,3]]"
      ]
    },
    {
      "cell_type": "markdown",
      "metadata": {
        "id": "lZKeH5wzJE6Q"
      },
      "source": [
        "## Ćwiczenie 5"
      ]
    },
    {
      "cell_type": "markdown",
      "metadata": {
        "id": "ULl-4GYBJE6R"
      },
      "source": [
        "Napisz program, który wygeneruje następujący wzorzec.\n",
        "\n",
        "WSKAZÓWKA: Użyj zagnieżdżonych pętli, używając jednej zagnieżdżonej pętli, aby zwiększyć rozmiar, a drugiej, aby zmniejszyć."
      ]
    },
    {
      "cell_type": "code",
      "execution_count": 2,
      "metadata": {
        "id": "1aHbwxIqJE6R"
      },
      "outputs": [],
      "source": [
        "n=5\n",
        "\n",
        "# CODE HERE"
      ]
    },
    {
      "cell_type": "markdown",
      "metadata": {
        "id": "7yAJA-ARJE6R"
      },
      "source": [
        "## Pytanie bonusowe"
      ]
    },
    {
      "cell_type": "markdown",
      "metadata": {
        "id": "PFyyQEmWJE6S"
      },
      "source": [
        "Napisz program sprawdzający, czy każda liczba od 10 do 50 jest liczbą pierwszą\n",
        "\n",
        "Twoja odpowiedź powinna mieć następujący format:\n",
        "- \"x JEST liczbą pierwszą.\" dla liczb pierwszych\n",
        "- \"x NIE JEST liczbą pierwszą, ponieważ y jest współczynnikiem x.\" dla nie-prime\n",
        "\n",
        "WSKAZÓWKA: Jest to możliwe przy użyciu pętli while zagnieżdżonej w pętli for lub za pomocą zagnieżdżonej pętli for; jeśli możesz, spróbuj znaleźć oba."
      ]
    },
    {
      "cell_type": "code",
      "execution_count": null,
      "metadata": {
        "id": "HNL6S5ICJE6S"
      },
      "outputs": [],
      "source": [
        "# CODE HERE"
      ]
    },
    {
      "cell_type": "code",
      "execution_count": null,
      "metadata": {
        "id": "9sqZ4J5fJE6S"
      },
      "outputs": [],
      "source": []
    },
    {
      "cell_type": "markdown",
      "metadata": {
        "id": "3X7tgMBeJE6S"
      },
      "source": [
        "## Dalsza lektura\n",
        "- Ta lekcja nie wymaga dalszej lektury, proszę uważnie przejrzeć te przykłady, aby w pełni zrozumieć różnorodność zastosowań pętli for.\n",
        "- Dla tych, którzy naprawdę chcą dowiedzieć się więcej polecak książkę Learning Python autorstwa Marka Lutza: pamiętajcie, że jest to tekst referencyjny i ma ponad 1000 stron. Jest cały rozdział poświęcony pętlom for.\n",
        "- PDF z Learning Python jest dostępny tutaj: https://cfm.ehu.es/ricardo/docs/python/Learning_Python.pdf"
      ]
    },
    {
      "cell_type": "code",
      "execution_count": null,
      "metadata": {
        "id": "fcQ6rgQSJE6T"
      },
      "outputs": [],
      "source": []
    }
  ],
  "metadata": {
    "kernelspec": {
      "display_name": "Python 3",
      "language": "python",
      "name": "python3"
    },
    "language_info": {
      "codemirror_mode": {
        "name": "ipython",
        "version": 3
      },
      "file_extension": ".py",
      "mimetype": "text/x-python",
      "name": "python",
      "nbconvert_exporter": "python",
      "pygments_lexer": "ipython3",
      "version": "3.8.6-final"
    },
    "colab": {
      "provenance": [],
      "include_colab_link": true
    }
  },
  "nbformat": 4,
  "nbformat_minor": 0
}