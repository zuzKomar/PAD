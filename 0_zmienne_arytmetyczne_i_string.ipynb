{
  "cells": [
    {
      "cell_type": "markdown",
      "metadata": {
        "id": "view-in-github",
        "colab_type": "text"
      },
      "source": [
        "<a href=\"https://colab.research.google.com/github/zuzKomar/PAD/blob/main/0_zmienne_arytmetyczne_i_string.ipynb\" target=\"_parent\"><img src=\"https://colab.research.google.com/assets/colab-badge.svg\" alt=\"Open In Colab\"/></a>"
      ]
    },
    {
      "cell_type": "markdown",
      "metadata": {
        "id": "7v1ZeW91FvOQ"
      },
      "source": [
        "## Uwagi\n",
        "- Komentarz to fragment tekstu dodany do kodu w celu wyjaśnienia i ułatwienia zrozumienia dla każdego czytającego, który nie jest autorem.\n",
        "- \\# na początku linii wskazuje, że linia jest komentarzem w komórce kodu.\n",
        "- Istnieją dwie szkoły myślenia o komentarzach: niektórzy twierdzą, że komentarze powinny być używane w szerokim zakresie, inni twierdzą, że powinny one być minimalne, ponieważ kod powinien być oczywisty.\n",
        "- Nie bój się na początku dodawać wielu komentarzy; gdy będziesz coraz lepszy w kodowaniu, zaczniesz zdawać sobie sprawę, co wymaga komentarza, a co nie.\n",
        "- Pamiętaj, że __czytelność i odtwarzalność są najważniejsze__. Użyj tego, aby pokierować korzystaniem z komentarzy."
      ]
    },
    {
      "cell_type": "markdown",
      "metadata": {
        "id": "7EKXxQqZFvOS"
      },
      "source": [
        "## Typy danych w Pythonie\n",
        "Python może przyjmować wiele typów danych, w tym:\n",
        "- liczby całkowite (int).\n",
        "- Liczby zmiennoprzecinkowe (float).\n",
        "- Napisy (str).\n",
        "- Listy (lista).\n",
        "- Słowniki (dict).\n",
        "- Krotki (tuple).\n",
        "- Zbiory (set).\n",
        "- Boole'a (bool)."
      ]
    },
    {
      "cell_type": "markdown",
      "metadata": {
        "id": "TMRAXVyhFvOU"
      },
      "source": [
        "## Liczby w Pythonie\n",
        "- Liczby w Pythonie są dwojakiego rodzaju:\n",
        "    - liczby całkowite (int).\n",
        "    - Liczby zmiennoprzecinkowe (float).\n",
        "- Mówiąc prościej:\n",
        "    - Liczba całkowita to liczba całkowita.\n",
        "    — Liczba zmiennoprzecinkowa to dowolna liczba z przecinkiem dziesiętnym.\n",
        "- Jedynym haczykiem związanym z liczbami zmiennoprzecinkowymi jest to, że ze względu na naturę obliczeń zmiennoprzecinkowych nie są one dokładnie tym, czego się po nich spodziewasz, dlatego często lepiej jest je zaokrąglać."
      ]
    },
    {
      "cell_type": "markdown",
      "metadata": {
        "id": "pObcwLNSFvOV"
      },
      "source": [
        "## Arytmetyka w Pythonie\n",
        "- Arytmetyka jest dość prosta: używamy standardowych operatorów:\n",
        "### / * + - <br>\n",
        "- Python będzie przestrzegać kolejności operacji.\n",
        "- Używamy podwójnej gwiazdki __\\*\\*__ dla potęg (pierwiastki to tylko potęgi ułamkowe).\n",
        "- Dzielenie zawsze zwraca liczbę zmiennoprzecinkową.\n",
        "- Istnieje kilka operacji specjalnych:\n",
        "    - Modulo (x%y) daje resztę z dzielenia x przez y.\n",
        "    - Podział (x//y) daje wynik dzielenia x przez y zaokrąglony w dół do najbliższej liczby całkowitej.\n",
        "- Używając operatorów arytmetycznych, zostaw jedną spację po obu stronach zgodnie z konwencją, chyba że brak spacji czyni ją bardziej przejrzystą."
      ]
    },
    {
      "cell_type": "code",
      "execution_count": null,
      "metadata": {
        "colab": {
          "base_uri": "https://localhost:8080/"
        },
        "id": "F7NZRq5XFvOW",
        "outputId": "2cf9865c-9579-41a3-f732-448f620c7afc"
      },
      "outputs": [
        {
          "output_type": "execute_result",
          "data": {
            "text/plain": [
              "3"
            ]
          },
          "metadata": {},
          "execution_count": 1
        }
      ],
      "source": [
        "# Dodawanie\n",
        "2 + 1"
      ]
    },
    {
      "cell_type": "code",
      "execution_count": null,
      "metadata": {
        "colab": {
          "base_uri": "https://localhost:8080/"
        },
        "id": "YVWaQbRdFvOW",
        "outputId": "bd7a29b1-0d76-4d23-962c-95448b2bcf0d"
      },
      "outputs": [
        {
          "output_type": "execute_result",
          "data": {
            "text/plain": [
              "1"
            ]
          },
          "metadata": {},
          "execution_count": 4
        }
      ],
      "source": [
        "# Odejmowanie\n",
        "2 - 1"
      ]
    },
    {
      "cell_type": "code",
      "execution_count": null,
      "metadata": {
        "colab": {
          "base_uri": "https://localhost:8080/"
        },
        "id": "8GEvwu7oFvOX",
        "outputId": "15250199-cc67-45dc-9831-3e9e516c7b7d"
      },
      "outputs": [
        {
          "output_type": "execute_result",
          "data": {
            "text/plain": [
              "4"
            ]
          },
          "metadata": {},
          "execution_count": 3
        }
      ],
      "source": [
        "# Mnożenie\n",
        "2 * 2"
      ]
    },
    {
      "cell_type": "code",
      "execution_count": null,
      "metadata": {
        "colab": {
          "base_uri": "https://localhost:8080/"
        },
        "id": "sO5DJ_l8FvOX",
        "outputId": "414dfa5d-ee9a-4fbb-f040-20d81805ea6f"
      },
      "outputs": [
        {
          "output_type": "execute_result",
          "data": {
            "text/plain": [
              "3.3333333333333335"
            ]
          },
          "metadata": {},
          "execution_count": 2
        }
      ],
      "source": [
        "# Dzielenie\n",
        "10 / 3"
      ]
    },
    {
      "cell_type": "markdown",
      "metadata": {
        "id": "vahs8MVnFvOY"
      },
      "source": [
        "# Dzielenie z zaokr agleniem\n",
        "7 // 4"
      ]
    },
    {
      "cell_type": "code",
      "execution_count": null,
      "metadata": {
        "colab": {
          "base_uri": "https://localhost:8080/"
        },
        "id": "kC4vke3MFvOZ",
        "outputId": "217fe1c9-03e0-4ad5-afdc-1b5afc9888bf"
      },
      "outputs": [
        {
          "output_type": "execute_result",
          "data": {
            "text/plain": [
              "3"
            ]
          },
          "metadata": {},
          "execution_count": 5
        }
      ],
      "source": [
        "# Modulo\n",
        "7 % 4"
      ]
    },
    {
      "cell_type": "code",
      "execution_count": null,
      "metadata": {
        "colab": {
          "base_uri": "https://localhost:8080/"
        },
        "id": "v5leFb2KFvOZ",
        "outputId": "3705adc6-3ca5-455e-db75-760f140e0435"
      },
      "outputs": [
        {
          "output_type": "execute_result",
          "data": {
            "text/plain": [
              "0"
            ]
          },
          "metadata": {},
          "execution_count": 6
        }
      ],
      "source": [
        "# Jeżeli modulo 2 jest równe 0, to liczba jest parzysta \n",
        "6 % 2"
      ]
    },
    {
      "cell_type": "code",
      "execution_count": null,
      "metadata": {
        "colab": {
          "base_uri": "https://localhost:8080/"
        },
        "id": "G2R8cmy-FvOa",
        "outputId": "fed57d95-63db-4a94-f892-024ef2f5feff"
      },
      "outputs": [
        {
          "output_type": "execute_result",
          "data": {
            "text/plain": [
              "8"
            ]
          },
          "metadata": {},
          "execution_count": 7
        }
      ],
      "source": [
        "# Potęgi\n",
        "2 ** 3"
      ]
    },
    {
      "cell_type": "code",
      "execution_count": null,
      "metadata": {
        "colab": {
          "base_uri": "https://localhost:8080/"
        },
        "id": "eil7I-nBFvOa",
        "outputId": "0ce60ef5-400b-424b-8c04-37eada9504ce"
      },
      "outputs": [
        {
          "output_type": "execute_result",
          "data": {
            "text/plain": [
              "2.0"
            ]
          },
          "metadata": {},
          "execution_count": 8
        }
      ],
      "source": [
        "# Pierwiastki\n",
        "4 ** 0.5"
      ]
    },
    {
      "cell_type": "code",
      "execution_count": null,
      "metadata": {
        "id": "peUTIhEvFvOb"
      },
      "outputs": [],
      "source": [
        "# Kolejność operacji w Pythonie\n",
        "(2 + 10) * 10 + 3"
      ]
    },
    {
      "cell_type": "code",
      "execution_count": null,
      "metadata": {
        "id": "8OInfsuAFvOb"
      },
      "outputs": [],
      "source": [
        "# Korzystanie z nawiasów w celu kontroli kolejności\n",
        "(2 + 10) * (10 + 3)"
      ]
    },
    {
      "cell_type": "code",
      "execution_count": null,
      "metadata": {
        "colab": {
          "base_uri": "https://localhost:8080/"
        },
        "id": "luzJQDy2FvOb",
        "outputId": "efe172ed-c005-4342-fff5-2a9d1dfb8a7f"
      },
      "outputs": [
        {
          "output_type": "execute_result",
          "data": {
            "text/plain": [
              "3.3333"
            ]
          },
          "metadata": {},
          "execution_count": 9
        }
      ],
      "source": [
        "# zaokrąglanie\n",
        "round(10/3, 4)"
      ]
    },
    {
      "cell_type": "markdown",
      "metadata": {
        "id": "RmlNpNmfFvOc"
      },
      "source": [
        "### Brak typu\n",
        "- Musimy tutaj rozróżnić None i 0.\n",
        "- None ma typ danych „NoneType” i dlatego nie jest wartością (można użyć jako symbolu zastępczego przed dodaniem wartości).\n",
        "-0 jest liczbą całkowitą, a więc wartością, to pokazuje, że mamy wartość, ale wartość jest liczbą całkowitą 0.\n",
        "- Widać to wyraźnie, gdy sprawdzimy typy każdego z nich"
      ]
    },
    {
      "cell_type": "code",
      "execution_count": null,
      "metadata": {
        "colab": {
          "base_uri": "https://localhost:8080/"
        },
        "id": "dkv9cHkaFvOd",
        "outputId": "6897bb5b-7f6c-4273-b6ae-f3630727ab1d"
      },
      "outputs": [
        {
          "output_type": "execute_result",
          "data": {
            "text/plain": [
              "NoneType"
            ]
          },
          "metadata": {},
          "execution_count": 10
        }
      ],
      "source": [
        "type(None)"
      ]
    },
    {
      "cell_type": "code",
      "execution_count": null,
      "metadata": {
        "colab": {
          "base_uri": "https://localhost:8080/"
        },
        "id": "LRDCkqW2FvOd",
        "outputId": "e9d6612e-f5f2-4e7e-c7a5-f066ff29c344"
      },
      "outputs": [
        {
          "output_type": "execute_result",
          "data": {
            "text/plain": [
              "int"
            ]
          },
          "metadata": {},
          "execution_count": 11
        }
      ],
      "source": [
        "type(0)"
      ]
    },
    {
      "cell_type": "code",
      "execution_count": null,
      "metadata": {
        "colab": {
          "base_uri": "https://localhost:8080/"
        },
        "id": "RdpUCd8NFvOd",
        "outputId": "8dfb680f-cde9-4845-962b-4782ea1acef6"
      },
      "outputs": [
        {
          "output_type": "execute_result",
          "data": {
            "text/plain": [
              "1"
            ]
          },
          "metadata": {},
          "execution_count": 12
        }
      ],
      "source": [
        "# zadziala\n",
        "0 + 1"
      ]
    },
    {
      "cell_type": "code",
      "execution_count": null,
      "metadata": {
        "colab": {
          "base_uri": "https://localhost:8080/",
          "height": 187
        },
        "id": "otBMPdHhFvOd",
        "outputId": "c0f24956-e985-4e5a-d640-0279e710512c"
      },
      "outputs": [
        {
          "output_type": "error",
          "ename": "TypeError",
          "evalue": "ignored",
          "traceback": [
            "\u001b[0;31m---------------------------------------------------------------------------\u001b[0m",
            "\u001b[0;31mTypeError\u001b[0m                                 Traceback (most recent call last)",
            "\u001b[0;32m<ipython-input-13-9b3218da8c0f>\u001b[0m in \u001b[0;36m<module>\u001b[0;34m\u001b[0m\n\u001b[1;32m      1\u001b[0m \u001b[0;31m# zwroci error\u001b[0m\u001b[0;34m\u001b[0m\u001b[0;34m\u001b[0m\u001b[0;34m\u001b[0m\u001b[0m\n\u001b[0;32m----> 2\u001b[0;31m \u001b[0;32mNone\u001b[0m \u001b[0;34m+\u001b[0m \u001b[0;36m1\u001b[0m\u001b[0;34m\u001b[0m\u001b[0;34m\u001b[0m\u001b[0m\n\u001b[0m",
            "\u001b[0;31mTypeError\u001b[0m: unsupported operand type(s) for +: 'NoneType' and 'int'"
          ]
        }
      ],
      "source": [
        "# zwroci error\n",
        "None + 1"
      ]
    },
    {
      "cell_type": "code",
      "execution_count": null,
      "metadata": {
        "id": "s9lvid3MFvOe"
      },
      "outputs": [],
      "source": []
    },
    {
      "cell_type": "markdown",
      "metadata": {
        "id": "yHyrL2zFFvOe"
      },
      "source": [
        "## Ćwiczenia z liczbami\n",
        "- Dodaj swój kod do komentowanych komórek, mówiąc „CODE HERE”."
      ]
    },
    {
      "cell_type": "markdown",
      "metadata": {
        "id": "7gWXKdgfFvOe"
      },
      "source": [
        "### Q1:\n",
        "Napisz wyrażenie używając dodawania i odejmowania oraz mnożenia i dzielenia, które jest równe 1044,75"
      ]
    },
    {
      "cell_type": "code",
      "execution_count": null,
      "metadata": {
        "colab": {
          "base_uri": "https://localhost:8080/"
        },
        "id": "OluC77-OFvOe",
        "outputId": "f2a3b793-f8fe-4a8a-85bc-e23dc14a61c1"
      },
      "outputs": [
        {
          "output_type": "execute_result",
          "data": {
            "text/plain": [
              "1044.75"
            ]
          },
          "metadata": {},
          "execution_count": 16
        }
      ],
      "source": [
        "# CODE HERE\n",
        "100 * 10 + 89.5 /2"
      ]
    },
    {
      "cell_type": "markdown",
      "metadata": {
        "id": "t4ffNiGtFvOf"
      },
      "source": [
        "### Q2:\n",
        "Jaki będzie wynik 1 \\+ 2 \\* 3 \\- 4 / 6(6 \\+ 7) \\* 8 \\*\\* 9?"
      ]
    },
    {
      "cell_type": "code",
      "execution_count": null,
      "metadata": {
        "id": "1gzuQpzMFvOf"
      },
      "outputs": [],
      "source": [
        "# CODE HERE"
      ]
    },
    {
      "cell_type": "code",
      "execution_count": null,
      "metadata": {
        "colab": {
          "base_uri": "https://localhost:8080/"
        },
        "id": "7-Z3jwBHFvOf",
        "outputId": "317a50e5-5d00-4dee-d4b7-cd603318bf13"
      },
      "outputs": [
        {
          "output_type": "execute_result",
          "data": {
            "text/plain": [
              "-1163220302.3333333"
            ]
          },
          "metadata": {},
          "execution_count": 42
        }
      ],
      "source": [
        "1 + 2 * 3 - 4 / 6 * (6 + 7) * 8 ** 9"
      ]
    },
    {
      "cell_type": "markdown",
      "metadata": {
        "id": "lq4aDrG5FvOg"
      },
      "source": [
        "## Przypisanie zmiennej\n",
        "- Często chcemy wielokrotnie używać tego samego obiektu, dlatego zamiast definiować go wielokrotnie w kodzie, możemy przypisać zmienną, której używamy zamiast tego.\n",
        "- Ta koncepcja nazywa się kodowaniem DRY (Don't Repeat Yourself): w całym tekście zobaczymy wiele przykładów.\n",
        "- Przypisujemy zmienne za pomocą znaku równości __=__ w Pythonie\n",
        "- Python jest typowany dynamicznie: jeśli przypiszesz zmienną, można ją później zmienić na coś innego w twoim kodzie (NIE jak C, który jest typowany statycznie).\n",
        "- Zmienne są nazywane według następujących wskazówek:"
      ]
    },
    {
      "cell_type": "markdown",
      "metadata": {
        "id": "2FicHTP7FvOg"
      },
      "source": [
        "## Nazewnictwo zmiennych\n",
        "1. Użyj __snake_case__: wszystkie małe litery, bez spacji, zamiast tego podkreślenia \\_.\n",
        "2. Nazwy nie mogą zaczynać się od cyfry ani używać następujących symboli:\n",
        "## \\:\\'\\\"\\,\\<\\>\\/\\?\\|\\\\\\(\\)\\!@\\#\\$\\%\\^\\&\\*\\~\\-\\+\n",
        "<br>\n",
        "3. Unikaj używania „l” (małe l), „O” (wielkie o) lub „I” (wielkie i) jako nazw pojedynczych znaków.\n",
        "4. Nie używaj __NIE__ słów kluczowych Pythona (lista słów kluczowych znajduje się poniżej).\n",
        "<br><br>\n",
        "__Jeśli przypadkowo zmienisz przypisanie słowa kluczowego Pythona, użyj jądra --> Uruchom ponownie, aby przywrócić wszystko do normy.__\n",
        "<br><br>\n",
        "Więcej informacji można znaleźć w PEP8: https://www.python.org/dev/peps/pep-0008/"
      ]
    },
    {
      "cell_type": "code",
      "execution_count": null,
      "metadata": {
        "colab": {
          "base_uri": "https://localhost:8080/"
        },
        "id": "HNmRGreiFvOg",
        "outputId": "5a6a12f5-15aa-49fe-901c-5ab11eda0f2c"
      },
      "outputs": [
        {
          "output_type": "stream",
          "name": "stdout",
          "text": [
            "False\n",
            "None\n",
            "True\n",
            "and\n",
            "as\n",
            "assert\n",
            "async\n",
            "await\n",
            "break\n",
            "class\n",
            "continue\n",
            "def\n",
            "del\n",
            "elif\n",
            "else\n",
            "except\n",
            "finally\n",
            "for\n",
            "from\n",
            "global\n",
            "if\n",
            "import\n",
            "in\n",
            "is\n",
            "lambda\n",
            "nonlocal\n",
            "not\n",
            "or\n",
            "pass\n",
            "raise\n",
            "return\n",
            "try\n",
            "while\n",
            "with\n",
            "yield\n"
          ]
        }
      ],
      "source": [
        "# List of keywords\n",
        "import keyword\n",
        "\n",
        "for i in keyword.kwlist:\n",
        "    print(i)"
      ]
    },
    {
      "cell_type": "markdown",
      "metadata": {
        "id": "FN5DOr-KFvOg"
      },
      "source": [
        "Tutaj tworzymy obiekt o nazwie x (zmienna) i nadajemy mu wartość całkowitą 5. <br>\n",
        "Znak \\= przypisuje wartość po prawej stronie do obiektu po lewej stronie:"
      ]
    },
    {
      "cell_type": "code",
      "execution_count": null,
      "metadata": {
        "id": "nqFYdPR_FvOh"
      },
      "outputs": [],
      "source": [
        "x = 3"
      ]
    },
    {
      "cell_type": "markdown",
      "metadata": {
        "id": "zqbdDRtrFvOh"
      },
      "source": [
        "Wywołanie zmiennej"
      ]
    },
    {
      "cell_type": "code",
      "execution_count": null,
      "metadata": {
        "colab": {
          "base_uri": "https://localhost:8080/"
        },
        "id": "VJRzgUExFvOh",
        "outputId": "2cf71d4f-0f89-4ede-f1e1-8d7781472577"
      },
      "outputs": [
        {
          "output_type": "execute_result",
          "data": {
            "text/plain": [
              "3"
            ]
          },
          "metadata": {},
          "execution_count": 29
        }
      ],
      "source": [
        "x"
      ]
    },
    {
      "cell_type": "markdown",
      "metadata": {
        "id": "hIv4hTmIFvOh"
      },
      "source": [
        "Arytmetyka wykonywana przy użyciu zmiennych wykorzystuje system bazowych obiektów (różni się pomiędzy typami danych). <br>\n",
        "Zobaczymy, jak to działa, gdy odkryjemy więcej typów danych:"
      ]
    },
    {
      "cell_type": "code",
      "execution_count": null,
      "metadata": {
        "colab": {
          "base_uri": "https://localhost:8080/"
        },
        "id": "GSKftgfhFvOh",
        "outputId": "df0ed589-dfcf-4e59-ad7e-13bedb0c68a4"
      },
      "outputs": [
        {
          "output_type": "execute_result",
          "data": {
            "text/plain": [
              "6"
            ]
          },
          "metadata": {},
          "execution_count": 30
        }
      ],
      "source": [
        "x + x"
      ]
    },
    {
      "cell_type": "markdown",
      "metadata": {
        "id": "f9MdacMLFvOi"
      },
      "source": [
        "Możemy zmienić przypisanie x na 10 bez błędów: nazywa się to ponownym przypisaniem i jest przykładem __'typowania dynamicznego'__.<br>\n",
        "W języku __'statycznie typowanym'__, takim jak C, spowoduje to wyświetlenie błędu:"
      ]
    },
    {
      "cell_type": "code",
      "execution_count": null,
      "metadata": {
        "id": "7ORQ-ZYuFvOi"
      },
      "outputs": [],
      "source": [
        "x = 10"
      ]
    },
    {
      "cell_type": "markdown",
      "metadata": {
        "id": "uqrSxuHMFvOi"
      },
      "source": [
        "3 zmieniło się na 10."
      ]
    },
    {
      "cell_type": "code",
      "execution_count": null,
      "metadata": {
        "colab": {
          "base_uri": "https://localhost:8080/"
        },
        "id": "tH0hwRp9FvOj",
        "outputId": "5fc3fbda-b939-4c46-a665-f64737baa97b"
      },
      "outputs": [
        {
          "output_type": "execute_result",
          "data": {
            "text/plain": [
              "10"
            ]
          },
          "metadata": {},
          "execution_count": 32
        }
      ],
      "source": [
        "x"
      ]
    },
    {
      "cell_type": "markdown",
      "metadata": {
        "id": "E-opTiqbFvOj"
      },
      "source": [
        "#### Krótka uwaga na temat funkcji print()\n",
        "- Wcześniej tylko nazywaliśmy zmienną, teraz widzimy, jak ją wyświetlić.\n",
        "- Funkcja print() __wyświetla__ wynik, a nie tylko go zwraca: w Jupyter Notebook często nie ma to praktycznego znaczenia, ale podczas pracy w innych środowiskach IDE możesz nie widzieć danych wyjściowych, chyba że je wydrukujesz.\n",
        "- Staje się to oczywiste, gdy chcesz zobaczyć 2 rzeczy z komórki: Notatnik Jupyter __pokaże tylko ostatnią rozmowę__.\n",
        "- Wyrażenia print() mogą służyć do wyświetlania wielu wyników.\n",
        "- Możemy określić parametr 'end' wewnątrz funkcji print(), aby zmienić sposób zakończenia instrukcji print().\n",
        "- np. __end = \"\\n\\n\" dodaje nową linię po wyjściu print(): może to być przydatne, aby wyjście było bardziej czytelne__.\n",
        "- Pusta instrukcja print() również daje nową linię."
      ]
    },
    {
      "cell_type": "code",
      "execution_count": null,
      "metadata": {
        "colab": {
          "base_uri": "https://localhost:8080/"
        },
        "id": "JPHMCpdjFvOk",
        "outputId": "dead0193-6fe3-4f8c-ea63-4ea7e32a8a31"
      },
      "outputs": [
        {
          "output_type": "execute_result",
          "data": {
            "text/plain": [
              "2"
            ]
          },
          "metadata": {},
          "execution_count": 33
        }
      ],
      "source": [
        "# przypisanie a i b\n",
        "a = 1\n",
        "b = 2\n",
        "\n",
        "# wywołanie a i b\n",
        "a\n",
        "b"
      ]
    },
    {
      "cell_type": "code",
      "execution_count": null,
      "metadata": {
        "colab": {
          "base_uri": "https://localhost:8080/"
        },
        "id": "T5O1gVkEFvOk",
        "outputId": "3cea48cb-89a9-4f12-b7c6-c7acd9c404e8"
      },
      "outputs": [
        {
          "output_type": "stream",
          "name": "stdout",
          "text": [
            "1\n",
            "2\n"
          ]
        }
      ],
      "source": [
        "# wyświetlenie a i b\n",
        "print(a)\n",
        "print(b)"
      ]
    },
    {
      "cell_type": "code",
      "execution_count": null,
      "metadata": {
        "colab": {
          "base_uri": "https://localhost:8080/"
        },
        "id": "xKj53IMfFvOk",
        "outputId": "0c9ed9bd-d2db-4a69-9ee9-e2bd6883a1e5"
      },
      "outputs": [
        {
          "output_type": "stream",
          "name": "stdout",
          "text": [
            "1\n",
            "\n",
            "2\n"
          ]
        }
      ],
      "source": [
        "# wykorzystanie \"end\" do utworzenia nowej linii\n",
        "print(a, end=\"\\n\\n\")\n",
        "print(b)"
      ]
    },
    {
      "cell_type": "code",
      "execution_count": null,
      "metadata": {
        "colab": {
          "base_uri": "https://localhost:8080/"
        },
        "id": "smq9TSjyFvOk",
        "outputId": "f6f8becc-5f06-4882-e7d8-e9610d64833e"
      },
      "outputs": [
        {
          "output_type": "stream",
          "name": "stdout",
          "text": [
            "1\n",
            "\n",
            "2\n"
          ]
        }
      ],
      "source": [
        "# wykorzystanie \"print()\" do utworzenia nowej lini\n",
        "print(a)\n",
        "print()\n",
        "print(b)"
      ]
    },
    {
      "cell_type": "markdown",
      "metadata": {
        "id": "TD87YraLFvOl"
      },
      "source": [
        "## Powrót do przypisania zmiennej...\n",
        "Możemy nawet przedefiniować x używając samego x. <br>\n",
        "Tutaj x jest __nazywane__ po prawej stronie znaku = i *przedefiniowywane* po lewej stronie. <br>\n",
        "Możemy o tym pomyśleć jako *nowy x* = __stary x__ + __stary x__ (*nowy x* = __10__ + __10__):"
      ]
    },
    {
      "cell_type": "code",
      "execution_count": null,
      "metadata": {
        "id": "tojra34WFvOl"
      },
      "outputs": [],
      "source": [
        "x = x + x"
      ]
    },
    {
      "cell_type": "markdown",
      "metadata": {
        "id": "JG7Gbt9KFvOl"
      },
      "source": [
        "x jest teraz równe 20:"
      ]
    },
    {
      "cell_type": "code",
      "execution_count": null,
      "metadata": {
        "id": "nRUD40uAFvOm"
      },
      "outputs": [],
      "source": [
        "x"
      ]
    },
    {
      "cell_type": "code",
      "execution_count": null,
      "metadata": {
        "id": "EoWKxD3XFvOm"
      },
      "outputs": [],
      "source": [
        "# jasno nazwane zmienne są kluczowe podczas pisania kodu o jakości produkcyjnej\n",
        "shopping_bill = 10.00\n",
        "\n",
        "vat_rate = 1.2\n",
        "\n",
        "bill_with_vat = shopping_bill * vat_rate\n",
        "\n",
        "bill_with_vat"
      ]
    },
    {
      "cell_type": "code",
      "execution_count": null,
      "metadata": {
        "id": "xzO41dlmFvOm"
      },
      "outputs": [],
      "source": []
    },
    {
      "cell_type": "markdown",
      "metadata": {
        "id": "F9nFSoo_FvOn"
      },
      "source": [
        "## Ćwiczenia przypisywania zmiennych"
      ]
    },
    {
      "cell_type": "markdown",
      "metadata": {
        "id": "kUmlJHhVFvOn"
      },
      "source": [
        "Użyj przypisania zmiennych, aby obliczyć niektóre rachunki za zakupy:\n",
        "- Pomidory kosztują 87 pensów za opakowanie 6\n",
        "- 500g cukru kosztuje 1,09 £\n",
        "- Gąbki do mycia kosztują 29 pensów za opakowanie 10\n",
        "- Sok kosztuje 1,89 £ za butelkę 1,5 l\n",
        "- Folia kosztuje 1,29 £ za 30 m rolkę"
      ]
    },
    {
      "cell_type": "markdown",
      "metadata": {
        "id": "wa1_yj2zFvOn"
      },
      "source": [
        "### Q1:\n",
        "Przypisz zmienne do każdego z tych produktów i ich cen"
      ]
    },
    {
      "cell_type": "code",
      "execution_count": null,
      "metadata": {
        "id": "hmQf9kyJFvOn"
      },
      "outputs": [],
      "source": [
        "# CODE HERE\n",
        "pomidory_6_szt = 0.87;\n",
        "cukier_500g = 1.09;\n",
        "gabki_10_szt = 0.29;\n",
        "sok_1500ml = 1.89;\n",
        "folia_30m = 1.29;"
      ]
    },
    {
      "cell_type": "markdown",
      "metadata": {
        "id": "547-pRvXFvOo"
      },
      "source": [
        "### Q2:\n",
        "\n",
        "Ile kosztuje 1 kg cukru?"
      ]
    },
    {
      "cell_type": "code",
      "execution_count": null,
      "metadata": {
        "id": "TDV9ZCCDFvOo"
      },
      "outputs": [],
      "source": [
        "# CODE HERE\n",
        "kg_cukru = cukier_500g * 2;"
      ]
    },
    {
      "cell_type": "markdown",
      "metadata": {
        "id": "TXSfwPjXFvOo"
      },
      "source": [
        "### Q3:\n",
        "\n",
        "Ile kosztuje 20 gąbek myjących, 3l soku, 2 opakowania pomidorów?"
      ]
    },
    {
      "cell_type": "code",
      "execution_count": null,
      "metadata": {
        "id": "YaoRet7ZFvOo"
      },
      "outputs": [],
      "source": [
        "# CODE HERE\n",
        "zakupy = 2 * gabki_10_szt + 2 * sok_1500ml + 2 * pomidory_6_szt;"
      ]
    },
    {
      "cell_type": "markdown",
      "metadata": {
        "id": "p86ePwYZFvOp"
      },
      "source": [
        "### Q4:\n",
        "\n",
        "Ile kupić dla 5 osób, jeśli każda potrzebuje:\n",
        "- Paczka pomidorów\n",
        "- 3 gąbki do mycia\n",
        "- Litr soku\n",
        "- 20m folii\n",
        "- 180g cukru\n",
        "<br><br>\n",
        "Pamiętaj, że możesz kupować przedmioty tylko w pełnych paczkach w sklepie, ale można je podzielić w domu.\n",
        "<br><br>\n",
        "Podaj swoją odpowiedź jako wydrukowaną zmienną o nazwie „ogółem”."
      ]
    },
    {
      "cell_type": "code",
      "execution_count": null,
      "metadata": {
        "id": "rQ6lrFe7FvOp"
      },
      "outputs": [],
      "source": [
        "# CODE HERE\n",
        "zakupy = 5 * pomidory_6_szt + 2 * gabki_10_szt + 4 * sok_1500ml + 4 * folia_30m + 2 * cukier_500g;"
      ]
    },
    {
      "cell_type": "markdown",
      "metadata": {
        "id": "T91IUm0IFvOp"
      },
      "source": [
        "### Q5:\n",
        "Ceny te nie zawierają podatku VAT, oblicz VAT od zakupów z pytania 4, a następnie oblicz całość z VAT. <br>\n",
        "Podaj obie liczby zaokrąglone odpowiednio do wyceny w funtach i pensach. VAT wynosi 20%."
      ]
    },
    {
      "cell_type": "code",
      "execution_count": null,
      "metadata": {
        "id": "J1EzHKOjFvOp"
      },
      "outputs": [],
      "source": [
        "# CODE HERE"
      ]
    },
    {
      "cell_type": "code",
      "execution_count": null,
      "metadata": {
        "colab": {
          "base_uri": "https://localhost:8080/"
        },
        "id": "mioTr1-3FvOp",
        "outputId": "e06a8796-b018-4c9b-fc0b-614288cc12c1"
      },
      "outputs": [
        {
          "output_type": "stream",
          "name": "stdout",
          "text": [
            "1.09 £\n",
            "20.92 £\n"
          ]
        }
      ],
      "source": [
        "vat = pomidory_6_szt * 0.2 + cukier_500g * 0.2 + sok_1500ml * 0.2 + gabki_10_szt * 0.2 + folia_30m  * 0.2;\n",
        "print(round(vat,2), '£')\n",
        "zakupy_z_vat = zakupy + vat;\n",
        "print(round(zakupy_z_vat,2), '£')"
      ]
    },
    {
      "cell_type": "markdown",
      "metadata": {
        "id": "BtZ_0--0FvOq"
      },
      "source": [
        "## Ciągi znaków w Pythonie\n",
        "- Strings (str) to sposób reprezentowania informacji tekstowych w Pythonie.\n",
        "- Oznaczono je cudzysłowami: pojedynczy ('') lub podwójny (\"\").\n",
        "- Zwykle najlepiej jest używać podwójnych znaków mowy, ponieważ apostrofy w tekście mogą przedwcześnie kończyć ciąg.\n",
        "- Apostrofy lub inne znaki specjalne w ciągach można zmienić za pomocą znaku odwrotnego ukośnika \\\\."
      ]
    },
    {
      "cell_type": "markdown",
      "metadata": {
        "id": "52pQl5fBFvOq"
      },
      "source": [
        "## Funkcje i metody ciągów znaków\n",
        "- print() wyświetla zawarte w nim dane wyjściowe.\n",
        "- W przypadku ciągów, print() interpretuje znaki specjalne (tabulatory, nowe wiersze itp.) i wyświetla ciąg bez cudzysłowów.\n",
        "- Metoda to funkcja powiązana z obiektem.\n",
        "- Struny mają wiele powiązanych metod, przyjrzymy się kilku tutaj.\n",
        "- Resztę można znaleźć pod adresem:\n",
        "<br> https://docs.python.org/2/library/stdtypes.html#string-methods"
      ]
    },
    {
      "cell_type": "code",
      "execution_count": null,
      "metadata": {
        "colab": {
          "base_uri": "https://localhost:8080/"
        },
        "id": "6ENYK-9CFvOq",
        "outputId": "2e360121-077e-46a7-ef40-20ce7384a28d"
      },
      "outputs": [
        {
          "output_type": "stream",
          "name": "stdout",
          "text": [
            "hi\n"
          ]
        }
      ],
      "source": [
        "x = \"Hello World\"\n",
        "print('hi')"
      ]
    },
    {
      "cell_type": "code",
      "execution_count": null,
      "metadata": {
        "id": "vljOfLyYFvOq"
      },
      "outputs": [],
      "source": [
        "# Używanie pojedynczych cytatów może być problematyczne, tutaj apostrof wcześnie kończy ciąg\n",
        "print('What's the problem here?')"
      ]
    },
    {
      "cell_type": "code",
      "execution_count": null,
      "metadata": {
        "id": "WJnO7tmnFvOr"
      },
      "outputs": [],
      "source": [
        "# możemy użyć podwójnych cudzysłowów\n",
        "print(\"What's the problem here?\")"
      ]
    },
    {
      "cell_type": "code",
      "execution_count": null,
      "metadata": {
        "id": "kqWJAPdfFvOs"
      },
      "outputs": [],
      "source": [
        "# lub odwrotny ukośnik, jeśli mamy pojedyncze i podwójne cudzysłowy\n",
        "print(\"What\\'s the \\\"problem\\\" here?\")"
      ]
    },
    {
      "cell_type": "code",
      "execution_count": null,
      "metadata": {
        "id": "sgGOaAl9FvOs"
      },
      "outputs": [],
      "source": [
        "# Metoda .upper() tworzy wszystkie drukowane\n",
        "print(x.upper())\n",
        "print(x)\n",
        "\n",
        "\n",
        "y = 1\n",
        "y = str(1)\n",
        "y = int(y)\n",
        "round(y)"
      ]
    },
    {
      "cell_type": "code",
      "execution_count": null,
      "metadata": {
        "id": "mLBSGZelFvOs"
      },
      "outputs": [],
      "source": [
        "# jeśli chcemy zmienić sam x, musimy go ponownie przypisać\n",
        "print(x)\n",
        "\n",
        "x = x.upper()\n",
        "\n",
        "print(x)"
      ]
    },
    {
      "cell_type": "code",
      "execution_count": null,
      "metadata": {
        "id": "A6xUOJXLFvOs"
      },
      "outputs": [],
      "source": [
        "# Metoda .lower() sprawia, że wszystkie litery są małe\n",
        "print(x.lower())"
      ]
    },
    {
      "cell_type": "code",
      "execution_count": null,
      "metadata": {
        "id": "pF5_SUfEFvOt"
      },
      "outputs": [],
      "source": [
        "# Metoda .split() dzieli się na spację jako domyślny lub pożądany separator\n",
        "print(x.split())\n",
        "print(x.split(\"o\"))"
      ]
    },
    {
      "cell_type": "markdown",
      "metadata": {
        "id": "vhELDR2UFvOt"
      },
      "source": [
        "## Metoda formatowania\n",
        "- Metoda .format to sposób na wstawienie czegoś do ciągu.\n",
        "— Może to być inny ciąg lub zmienna pobrana z innego miejsca w kodzie.\n",
        "— Zastosowana składnia została szczegółowo opisana poniżej.\n",
        "- Używając formatu .format do dodawania liczby zmiennoprzecinkowej do ciągu, możemy określić szerokość i dokładność ułamka dziesiętnego."
      ]
    },
    {
      "cell_type": "code",
      "execution_count": null,
      "metadata": {
        "id": "zw55o-reFvOt"
      },
      "outputs": [],
      "source": [
        "# domyślne wydruki w kolejności\n",
        "print(\"The {} {} {}\".format(\"fox\", \"brown\", \"quick\"))"
      ]
    },
    {
      "cell_type": "code",
      "execution_count": null,
      "metadata": {
        "id": "nZUf6GGcFvOt"
      },
      "outputs": [],
      "source": [
        "# może indeksować\n",
        "print(\"The {2} {1} {0}\".format(\"fox\", \"brown\", \"quick\"))"
      ]
    },
    {
      "cell_type": "code",
      "execution_count": null,
      "metadata": {
        "id": "JjhXzVA-FvOt"
      },
      "outputs": [],
      "source": [
        "# może używać klawiszy zmiennych do czytelności\n",
        "print(\"The {q} {b} {f}\".format(f=\"fox\", b=\"brown\", q=\"quick\"))"
      ]
    },
    {
      "cell_type": "code",
      "execution_count": 4,
      "metadata": {
        "id": "OQ-CCaMnFvOu",
        "colab": {
          "base_uri": "https://localhost:8080/"
        },
        "outputId": "e02ea2bf-71e8-46f6-e5f9-d03c37322098"
      },
      "outputs": [
        {
          "output_type": "stream",
          "name": "stdout",
          "text": [
            "0.1287001287001287\n",
            "\n",
            "The result was 0.129\n",
            "The result was 0.129\n",
            "The result was 0.1287001\n",
            "The result was    0.129\n"
          ]
        }
      ],
      "source": [
        "# utwórz długi ułamek dziesiętny\n",
        "result = 100/777\n",
        "print(result, end = \"\\n\\n\")\n",
        "\n",
        "# użyj wartości:width.precisionf do formatowania\n",
        "# szerokość to minimalna długość ciągu, w razie potrzeby uzupełniona spacją\n",
        "# precyzja to miejsca dziesiętne\n",
        "print(\"The result was {:1.3f}\".format(result))\n",
        "print(\"The result was {r:1.3f}\".format(r=result))\n",
        "print(\"The result was {r:1.7f}\".format(r=result))\n",
        "print(\"The result was {r:8.3f}\".format(r=result))"
      ]
    },
    {
      "cell_type": "markdown",
      "metadata": {
        "id": "pqbRKHxjFvOu"
      },
      "source": [
        "## Indeksowanie i wycinanie ciągów\n",
        "- Ciągi są iterowalne, co oznacza, że mogą zwracać swoje elementy pojedynczo.\n",
        "- Ciągi są również niezmienne, co oznacza, że ich elementy nie mogą być zmienione po przypisaniu.\n",
        "- Muszą zostać __PRZEPISANE__, aby je zmienić.\n",
        "- Każdy znak w ciągu jest jednym elementem: obejmuje to spacje i znaki interpunkcyjne.\n",
        "- Możemy to wykorzystać do oddzwonienia jednego elementu (indeksowanie).\n",
        "- Lub szereg elementów (krojenie)."
      ]
    },
    {
      "cell_type": "markdown",
      "metadata": {
        "id": "ExBInLvDFvOu"
      },
      "source": [
        "W Pythonie:\n",
        "- Indeksowanie zaczyna się od 0 (zero).\n",
        "- Krojenie obejmuje dolną granicę (włącznie).\n",
        "- Krojenie jest wyłączne w górnej granicy (do, ale nie w tym)."
      ]
    },
    {
      "cell_type": "code",
      "execution_count": null,
      "metadata": {
        "id": "d3SnM3EnFvOu"
      },
      "outputs": [],
      "source": [
        "my_first_string = \"Hello World\""
      ]
    },
    {
      "cell_type": "code",
      "execution_count": null,
      "metadata": {
        "id": "jeLMdAqVFvOv"
      },
      "outputs": [],
      "source": [
        "# Index 0 zwraca pierwszy element\n",
        "my_first_string[0]"
      ]
    },
    {
      "cell_type": "markdown",
      "metadata": {
        "id": "D1ASBx6IFvOv"
      },
      "source": [
        "Użyj dwukropka, aby wskazać wycinek, 1:4 zwraca 2. (indeks 1), 3. (indeks 2), 4. (indeks 3) elementy __ale nie 5. (indeks 4)__:"
      ]
    },
    {
      "cell_type": "code",
      "execution_count": null,
      "metadata": {
        "id": "BDW9D0unFvOv"
      },
      "outputs": [],
      "source": [
        "my_first_string[1:4]"
      ]
    },
    {
      "cell_type": "markdown",
      "metadata": {
        "id": "fIgp4ZSaFvOv"
      },
      "source": [
        "Nieobecna górna granica zaczyna się od wskazanego pierwszego indeksu i daje wszystko poza:"
      ]
    },
    {
      "cell_type": "code",
      "execution_count": null,
      "metadata": {
        "id": "uv7PQ6lbFvOw"
      },
      "outputs": [],
      "source": [
        "my_first_string[1:]"
      ]
    },
    {
      "cell_type": "markdown",
      "metadata": {
        "id": "AwZpFpVrFvOw"
      },
      "source": [
        "Brak dolnej granicy zaczyna się od indeksu 0, aż do górnej granicy, ale nie obejmuje:"
      ]
    },
    {
      "cell_type": "code",
      "execution_count": null,
      "metadata": {
        "id": "vPfy9odKFvOw"
      },
      "outputs": [],
      "source": [
        "my_first_string[:3]"
      ]
    },
    {
      "cell_type": "markdown",
      "metadata": {
        "id": "KfNpNADYFvOx"
      },
      "source": [
        "Nie możemy zmienić elementów ciągu:"
      ]
    },
    {
      "cell_type": "code",
      "execution_count": null,
      "metadata": {
        "id": "TYr8tTi0FvOx"
      },
      "outputs": [],
      "source": [
        "my_first_string[0] = 'l'"
      ]
    },
    {
      "cell_type": "markdown",
      "metadata": {
        "id": "kB3E2iJxFvOx"
      },
      "source": [
        "## Strings Ćwiczenia"
      ]
    },
    {
      "cell_type": "markdown",
      "metadata": {
        "id": "IAFLFeb9FvOx"
      },
      "source": [
        "__Prostopadłościan:__\n",
        "- Wysokość (h): 25/7.\n",
        "- Szerokość (szer.): 25/2.\n",
        "- Długość (l): 35.\n",
        "\n",
        "__Stożek:__\n",
        "- Wysokość (h): 10.\n",
        "- Promień podstawy (r): 3."
      ]
    },
    {
      "cell_type": "markdown",
      "metadata": {
        "id": "UmaofhBcFvOx"
      },
      "source": [
        "### Pytanie 1:\n",
        "\n",
        "Użyj wzorów, aby uzyskać objętości i pola powierzchni poniższych kształtów i przypisz je do zmiennych. <br>\n",
        "pi zostało zaimportowane dla Ciebie, nazywa się po prostu pi."
      ]
    },
    {
      "cell_type": "markdown",
      "metadata": {
        "id": "Ra5PVCn-FvOx"
      },
      "source": [
        "- Objętość prostopadłościanu = l \\* w \\* h\n",
        "- Powierzchnia prostopadłościanu = 2(lw + lh + hw)"
      ]
    },
    {
      "cell_type": "markdown",
      "metadata": {
        "id": "MU0q4hgKFvOy"
      },
      "source": [
        "- Objętość stożka = pi * r\\*\\*2 * h/3\n",
        "- Powierzchnia stożka = pi * r(r + sqrt(h\\*\\*2 + r\\*\\*2))"
      ]
    },
    {
      "cell_type": "code",
      "execution_count": 1,
      "metadata": {
        "id": "vm28U8bvFvOy"
      },
      "outputs": [],
      "source": [
        "cuboid_vol = 35 * 25/7 * 25/7; \n",
        "\n",
        "\n",
        "cuboid_sa = 2 * (35 * 25/2 + 35 *  25/7 + 25/7 * 25/7 * 25/2);"
      ]
    },
    {
      "cell_type": "code",
      "execution_count": 2,
      "metadata": {
        "id": "XdiuCc4oFvOz"
      },
      "outputs": [],
      "source": [
        "from math import pi # ignore this line, it just imports pi\n",
        "\n",
        "cone_vol = pi * 3 ** 2 * 10/3;\n",
        "\n",
        "cone_sa = pi * 3 * (3 + ((10 ** 2) + (3 ** 2)) ** 0.5);"
      ]
    },
    {
      "cell_type": "markdown",
      "metadata": {
        "id": "Tq8a-mubFvO0"
      },
      "source": [
        "### Pytanie 2:\n",
        "\n",
        "Napisz 2 instrukcje drukowania (po jednym dla każdego kształtu) w formacie:\n",
        "- '(kształt) ma objętość x i powierzchnię y.' <br><br>\n",
        "Gdzie:\n",
        "- kształt prostopadłościanu lub stożka\n",
        "- x to odpowiedni wolumin, który właśnie zdefiniowałeś, dodany przez .format\n",
        "- y to odpowiedni obszar powierzchni, który właśnie zdefiniowałeś, dodany przez .format"
      ]
    },
    {
      "cell_type": "code",
      "execution_count": 8,
      "metadata": {
        "id": "FLhzjmFTFvO0",
        "colab": {
          "base_uri": "https://localhost:8080/"
        },
        "outputId": "c9be04d6-2f0f-4ae5-b7b0-dd1aad4fab02"
      },
      "outputs": [
        {
          "output_type": "stream",
          "name": "stdout",
          "text": [
            "Prostopadłościan ma objętość: 446.429 i powierzchnię: 1443.878.\n",
            "Stożek ma objętość: 94.248 i powierzchnię: 126.672.\n"
          ]
        }
      ],
      "source": [
        "print(\"{} ma objętość: {:1.3f} i powierzchnię: {:1.3f}.\".format(\"Prostopadłościan\", cuboid_vol, cuboid_sa));\n",
        "print(\"{} ma objętość: {:1.3f} i powierzchnię: {:1.3f}.\".format(\"Stożek\", cone_vol, cone_sa));"
      ]
    },
    {
      "cell_type": "markdown",
      "metadata": {
        "id": "u1tbAc-_FvO0"
      },
      "source": [
        "### Pytanie 3:\n",
        "\n",
        "Napisz jeszcze 2 instrukcje drukowania, tym razem ze sformatowanymi wymiarami każdego kształtu i zaokrągleniem wszystkich liczb do 2 dp. Oświadczenia powinny mieć formę:\n",
        "- '(kształt) ma (wymiary) o objętości x i powierzchni y.'\n",
        "- Oświadczenia o wymiarach są dostarczane dla Ciebie."
      ]
    },
    {
      "cell_type": "code",
      "execution_count": 10,
      "metadata": {
        "id": "VlYM18hnFvO1"
      },
      "outputs": [],
      "source": [
        "cuboid_dim = \"height 3.57, width 12.50, length 35.00\"\n",
        "\n",
        "cone_dim = \"height 10.00, radius 3.00\"\n",
        "\n",
        "# CODE HERE"
      ]
    },
    {
      "cell_type": "code",
      "execution_count": 11,
      "metadata": {
        "id": "KRvZErfbFvO1",
        "colab": {
          "base_uri": "https://localhost:8080/"
        },
        "outputId": "45293be3-1ed0-4e54-a6e9-f629192aa582"
      },
      "outputs": [
        {
          "output_type": "stream",
          "name": "stdout",
          "text": [
            "Prostopadłościan ma wymiary height 3.57, width 12.50, length 35.00 o objętości: 446.429 i powierzchni: 1443.88.\n",
            "Stożek ma wymiary height 10.00, radius 3.00 o objętości: 94.248 i powierzchni: 126.67.\n"
          ]
        }
      ],
      "source": [
        "print(\"{} ma wymiary {} o objętości: {:1.3f} i powierzchni: {:1.2f}.\".format(\"Prostopadłościan\", cuboid_dim, cuboid_vol, cuboid_sa));\n",
        "print(\"{} ma wymiary {} o objętości: {:1.3f} i powierzchni: {:1.2f}.\".format(\"Stożek\", cone_dim, cone_vol, cone_sa));"
      ]
    },
    {
      "cell_type": "markdown",
      "metadata": {
        "id": "oi10wHJAFvO1"
      },
      "source": [
        "## Dalsza lektura\n",
        "- Dokumentacja stylu PEP8: https://www.python.org/dev/peps/pep-0008/\n",
        "- Metody String: https://docs.python.org/2/library/stdtypes.html#string-methods\n",
        "- Python Brak: https://docs.python.org/3/c-api/none.html"
      ]
    }
  ],
  "metadata": {
    "kernelspec": {
      "display_name": "Python 3",
      "language": "python",
      "name": "python3"
    },
    "language_info": {
      "codemirror_mode": {
        "name": "ipython",
        "version": 3
      },
      "file_extension": ".py",
      "mimetype": "text/x-python",
      "name": "python",
      "nbconvert_exporter": "python",
      "pygments_lexer": "ipython3",
      "version": "3.9.1"
    },
    "colab": {
      "provenance": [],
      "include_colab_link": true
    }
  },
  "nbformat": 4,
  "nbformat_minor": 0
}