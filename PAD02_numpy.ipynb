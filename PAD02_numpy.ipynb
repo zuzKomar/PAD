{
  "nbformat": 4,
  "nbformat_minor": 0,
  "metadata": {
    "colab": {
      "provenance": [],
      "authorship_tag": "ABX9TyOrLtQzEA1B5Co/XJ4GcM8S",
      "include_colab_link": true
    },
    "kernelspec": {
      "name": "python3",
      "display_name": "Python 3"
    },
    "language_info": {
      "name": "python"
    }
  },
  "cells": [
    {
      "cell_type": "markdown",
      "metadata": {
        "id": "view-in-github",
        "colab_type": "text"
      },
      "source": [
        "<a href=\"https://colab.research.google.com/github/zuzKomar/PAD/blob/main/PAD02_numpy.ipynb\" target=\"_parent\"><img src=\"https://colab.research.google.com/assets/colab-badge.svg\" alt=\"Open In Colab\"/></a>"
      ]
    },
    {
      "cell_type": "code",
      "source": [
        "from google.colab import drive\n",
        "drive.mount('/content/drive')\n",
        "!ln -s /content/drive/MyDrive/PAD02 pad02"
      ],
      "metadata": {
        "colab": {
          "base_uri": "https://localhost:8080/"
        },
        "id": "AEZ1QmnGSVJ9",
        "outputId": "2a1671a3-f1b2-4671-fab0-be073e94fded"
      },
      "execution_count": 1,
      "outputs": [
        {
          "output_type": "stream",
          "name": "stdout",
          "text": [
            "Mounted at /content/drive\n"
          ]
        }
      ]
    },
    {
      "cell_type": "markdown",
      "source": [
        "Zadanie 1 (7 pkt) \n",
        "\n",
        "Korzystając z poniższego kodu oraz pliku president_heights.csv utwórz tablicę zawierającą wzrost prezydentów USA. "
      ],
      "metadata": {
        "id": "wo3TYfmmOp2N"
      }
    },
    {
      "cell_type": "code",
      "source": [
        "\n",
        "import pandas as pd\n",
        "import numpy as np\n",
        "\n",
        "data = pd.read_csv('pad02/president_heights.csv')\n",
        "heights = np.array(data['height(cm)'])\n",
        "print(heights)"
      ],
      "metadata": {
        "colab": {
          "base_uri": "https://localhost:8080/"
        },
        "id": "LMysNS8WTK-E",
        "outputId": "c52db2af-dd9a-4d3c-a8bf-e3e686faf6d6"
      },
      "execution_count": null,
      "outputs": [
        {
          "output_type": "stream",
          "name": "stdout",
          "text": [
            "[189 170 189 163 183 171 185 168 173 183 173 173 175 178 183 193 178 173\n",
            " 174 183 183 168 170 178 182 180 183 178 182 188 175 179 183 193 182 183\n",
            " 177 185 188 188 182 185]\n"
          ]
        }
      ]
    },
    {
      "cell_type": "markdown",
      "source": [
        "Korzystając z pakietu NumPy podaj: \n",
        "\n",
        "- średni wzrost \n",
        "\n",
        "- odchylenie standardowe \n",
        "\n",
        "- najwyższy oraz najniższy wzrost: \n",
        "- Podaj również 25 i 75 kwantyl oraz medianę: "
      ],
      "metadata": {
        "id": "YZtMF10cOxOM"
      }
    },
    {
      "cell_type": "code",
      "source": [
        "import numpy as np\n",
        "meanHeights = np.mean(heights)\n",
        "standardDeviation = np.std(heights)\n",
        "minValue = np.amin(heights)\n",
        "maxValue = np.amax(heights)\n",
        "percentile_25 = np.percentile(heights, 25)\n",
        "percentile_75 = np.percentile(heights, 75)\n",
        "median = np.median(heights)\n",
        "\n",
        "print(\"Mean height:\",meanHeights)\n",
        "print(\"Standard deviation:\",standardDeviation) \n",
        "print(\"Minimum height:\",minValue) \n",
        "print(\"Maximum height:\",maxValue) \n",
        "print(\"25th percentile:\",percentile_25) \n",
        "print(\"Median:\",median) \n",
        "print(\"75th percentile\",percentile_75) "
      ],
      "metadata": {
        "id": "I2P4SJuaO7pk",
        "colab": {
          "base_uri": "https://localhost:8080/"
        },
        "outputId": "e7e96531-fc16-4238-e331-f50574deb634"
      },
      "execution_count": null,
      "outputs": [
        {
          "output_type": "stream",
          "name": "stdout",
          "text": [
            "Mean height: 179.73809523809524\n",
            "Standard deviation: 6.931843442745892\n",
            "Minimum height: 163\n",
            "Maximum height: 193\n",
            "25th percentile: 174.25\n",
            "Median: 182.0\n",
            "75th percentile 183.0\n"
          ]
        }
      ]
    },
    {
      "cell_type": "markdown",
      "source": [
        "Zadanie 2 (4 pkt) \n",
        "\n",
        "Wgraj dane z pliku Zadanie_2.csv. \n",
        "\n",
        "Znajdź wektory własne, oraz wartości własne dla zawartej w pliku macierzy \n",
        "\n",
        "Oblicz macierz odwrotną dla macierzy z pliku "
      ],
      "metadata": {
        "id": "T0uwhtATPfNU"
      }
    },
    {
      "cell_type": "code",
      "source": [
        "import numpy as np\n",
        "A = np.genfromtxt('pad02/Zadanie_2.csv', delimiter=';')\n",
        "\n",
        "wartosciWlasne, wektoryWlasne = np.linalg.eig(A)\n",
        "print(wartosciWlasne)\n",
        "print('\\n')\n",
        "print(wektoryWlasne)\n",
        "print('\\n')\n",
        "\n",
        "A_inv = np.linalg.inv(A)\n",
        "print(A_inv)"
      ],
      "metadata": {
        "id": "vVGi_Q4ePiLk",
        "colab": {
          "base_uri": "https://localhost:8080/"
        },
        "outputId": "a1a0de21-b25f-485a-efcd-0e7573582f21"
      },
      "execution_count": null,
      "outputs": [
        {
          "output_type": "stream",
          "name": "stdout",
          "text": [
            "[104.34960192 +0.j         -23.35660516+18.84992811j\n",
            " -23.35660516-18.84992811j  15.92989017 +0.j\n",
            "  -4.99456452 +0.j           0.35205717 +5.80125175j\n",
            "   0.35205717 -5.80125175j  -1.03383491 +0.j\n",
            "   3.87900166 +1.42651533j   3.87900166 -1.42651533j]\n",
            "\n",
            "\n",
            "[[-0.29000475+0.j         -0.07545445+0.07743149j -0.07545445-0.07743149j\n",
            "  -0.03544485+0.j          0.42681634+0.j         -0.22172831-0.29869259j\n",
            "  -0.22172831+0.29869259j  0.41343726+0.j         -0.28670255+0.21891569j\n",
            "  -0.28670255-0.21891569j]\n",
            " [-0.24163153+0.j          0.41229621+0.09197324j  0.41229621-0.09197324j\n",
            "   0.45873475+0.j         -0.27056206+0.j         -0.01331344+0.1422557j\n",
            "  -0.01331344-0.1422557j  -0.31591047+0.j          0.41954481-0.10561864j\n",
            "   0.41954481+0.10561864j]\n",
            " [-0.41060573+0.j          0.37509638-0.00960818j  0.37509638+0.00960818j\n",
            "   0.64067986+0.j         -0.37967609+0.j         -0.60525232+0.j\n",
            "  -0.60525232-0.j          0.6457768 +0.j          0.63631555+0.j\n",
            "   0.63631555-0.j        ]\n",
            " [-0.18899971+0.j         -0.05624951+0.174848j   -0.05624951-0.174848j\n",
            "   0.25174536+0.j         -0.07625465+0.j         -0.14870016-0.00795735j\n",
            "  -0.14870016+0.00795735j  0.15206852+0.j          0.21373907+0.00228636j\n",
            "   0.21373907-0.00228636j]\n",
            " [-0.42862199+0.j          0.47707538+0.14580554j  0.47707538-0.14580554j\n",
            "   0.39445834+0.j         -0.69542141+0.j          0.07336021-0.43070469j\n",
            "   0.07336021+0.43070469j -0.25948775+0.j          0.20250102-0.00411374j\n",
            "   0.20250102+0.00411374j]\n",
            " [-0.14730562+0.j         -0.57352911+0.j         -0.57352911-0.j\n",
            "   0.10071325+0.j          0.30158403+0.j         -0.04758838+0.12911829j\n",
            "  -0.04758838-0.12911829j  0.21274791+0.j         -0.1503483 +0.03452906j\n",
            "  -0.1503483 -0.03452906j]\n",
            " [-0.34660607+0.j         -0.13987374+0.06837303j -0.13987374-0.06837303j\n",
            "  -0.04800705+0.j          0.06798106+0.j          0.00512204+0.04215641j\n",
            "   0.00512204-0.04215641j  0.05365357+0.j         -0.0534517 +0.00550802j\n",
            "  -0.0534517 -0.00550802j]\n",
            " [-0.34919853+0.j         -0.08414467+0.07749664j -0.08414467-0.07749664j\n",
            "   0.25925893+0.j         -0.10039982+0.j         -0.06761437-0.25584347j\n",
            "  -0.06761437+0.25584347j -0.38214447+0.j          0.29485109-0.01300678j\n",
            "   0.29485109+0.01300678j]\n",
            " [-0.2440048 +0.j         -0.13777908+0.00402196j -0.13777908-0.00402196j\n",
            "   0.27709282+0.j         -0.00524365+0.j          0.21866893+0.04463336j\n",
            "   0.21866893-0.04463336j -0.12045798+0.j          0.27558332+0.02285482j\n",
            "   0.27558332-0.02285482j]\n",
            " [-0.38231403+0.j         -0.00476199+0.03456836j -0.00476199-0.03456836j\n",
            "   0.04918165+0.j          0.07322815+0.j          0.1819345 -0.29687727j\n",
            "   0.1819345 +0.29687727j -0.11445044+0.j          0.02830199+0.00579727j\n",
            "   0.02830199-0.00579727j]]\n",
            "\n",
            "\n",
            "[[ 0.47461371  0.13269253 -0.24726695 -0.82965177  0.28250384 -0.17012825\n",
            "   0.58274426  0.83686705  0.4146721  -1.56942847]\n",
            " [-0.38032531 -0.11226789  0.23216372  0.58853747 -0.2508954   0.10174485\n",
            "  -0.40729564 -0.58325689 -0.2335154   1.11832726]\n",
            " [ 0.13559662  0.58950334 -0.24709855 -0.58789838 -0.30170699 -0.12721938\n",
            "   0.23740295  1.01003036 -0.02151387 -0.64590149]\n",
            " [ 0.01425207  0.14570726 -0.04557569 -0.12721972 -0.08945184 -0.03756624\n",
            "   0.03910376  0.23606066 -0.01436771 -0.11345749]\n",
            " [-0.09473246  0.01725249  0.19145597  0.32960274 -0.28626296  0.08348529\n",
            "  -0.37577603 -0.27295934 -0.25855803  0.74691827]\n",
            " [ 0.16387032  0.10075684 -0.15404907 -0.29794662  0.16916877 -0.02827782\n",
            "   0.20469921  0.28036265  0.15086178 -0.5882585 ]\n",
            " [ 0.04288003  0.02246462 -0.0366803  -0.09024915  0.04322146 -0.01047861\n",
            "   0.06167348  0.07009721  0.0367806  -0.14185925]\n",
            " [-0.26858433 -0.21167346  0.25168367  0.55607234 -0.16804333  0.01066975\n",
            "  -0.22435849 -0.52957038 -0.15757224  0.77302113]\n",
            " [-0.15583541 -0.13041404  0.0984558   0.3150966  -0.09916278 -0.04426337\n",
            "  -0.20832614 -0.18404388 -0.04309498  0.45794224]\n",
            " [-0.05970783 -0.11342903  0.09122544  0.11908074 -0.00311646  0.02370807\n",
            "  -0.07526552 -0.06924544 -0.10963836  0.16553689]]\n"
          ]
        }
      ]
    },
    {
      "cell_type": "markdown",
      "source": [
        "Zadanie 3 (8 pkt) \n",
        "\n",
        "Plik Seattle2014.csv zawiera informacje o rocznych opadach w Seattle w 2014. Wykorzystaj kod poniżej aby wczytać plik. "
      ],
      "metadata": {
        "id": "eCUuTm8YPjIk"
      }
    },
    {
      "cell_type": "code",
      "source": [
        "import numpy as np\n",
        "import pandas as pd\n",
        "\n",
        "rainfall = pd.read_csv('pad02/Seattle2014.csv')['PRCP'].values\n",
        "inches = rainfall / 254.0 # 1/0mm -> inches\n",
        "inches.shape\n",
        "\n",
        "daysWithoutRain = 0\n",
        "rainyDays = 0\n",
        "daysUnder0_2 = 0\n",
        "daysAbove0_5 = 0\n",
        "\n",
        "\n",
        "rainyDaysArray = []\n",
        "summerDays = []\n",
        "nonSummerDays = []\n",
        "\n",
        "indexArray = np.arange(365)\n",
        "\n",
        "for x in indexArray:\n",
        "  if x>=172 and x<=262:\n",
        "    summerDays.append(inches[x])\n",
        "  if x<172 or x>262:\n",
        "     nonSummerDays.append(inches[x])\n",
        "  if inches[x]==0:\n",
        "    daysWithoutRain+=1\n",
        "  else:\n",
        "    rainyDays+=1\n",
        "    rainyDaysArray.append(inches[x])\n",
        "    if inches[x]>0.5:\n",
        "      daysAbove0_5+=1\n",
        "    elif inches[x]<0.2:\n",
        "      daysUnder0_2+=1\n",
        "\n",
        "rainyDaysMedian = np.median(rainyDaysArray)\n",
        "rainySummerDaysMedian = np.median(summerDays)\n",
        "maxRainySummerDay = np.amax(summerDays)\n",
        "maxRainyDaysExceptSummer = np.amax(nonSummerDays)\n",
        "print(\"Number days without rain:      \",daysWithoutRain) \n",
        "print(\"Number days with rain:         \",rainyDays) \n",
        "print(\"Days with more than 0.5 inches:\",daysAbove0_5) \n",
        "print(\"Rainy days with < 0.2 inches  :\",daysUnder0_2) \n",
        "print(\"Median precip on rainy days in 2014 (inches):   \",rainyDaysMedian) \n",
        "print(\"Median precip on summer days in 2014 (inches):  \",rainySummerDaysMedian) \n",
        "print(\"Maximum precip on summer days in 2014 (inches): \",maxRainySummerDay) \n",
        "print(\"Maximum precip on non-summer days (inches):\",maxRainyDaysExceptSummer) "
      ],
      "metadata": {
        "id": "YaVBOAiaPn7b",
        "colab": {
          "base_uri": "https://localhost:8080/"
        },
        "outputId": "288153d0-efb5-48db-88f6-1ddc4fb6a8a0"
      },
      "execution_count": 4,
      "outputs": [
        {
          "output_type": "stream",
          "name": "stdout",
          "text": [
            "0.0\n",
            "Number days without rain:       215\n",
            "Number days with rain:          150\n",
            "Days with more than 0.5 inches: 37\n",
            "Rainy days with < 0.2 inches  : 75\n",
            "Median precip on rainy days in 2014 (inches):    0.19488188976377951\n",
            "Median precip on summer days in 2014 (inches):   0.0\n",
            "Maximum precip on summer days in 2014 (inches):  0.8503937007874016\n",
            "Maximum precip on non-summer days (inches): 1.8385826771653544\n"
          ]
        }
      ]
    },
    {
      "cell_type": "markdown",
      "source": [
        "Wykorzystując operatory logiczne znajdź dni, kiedy [PODAJ LICZBĘ TYCH DNI]: \n",
        "- Nie padało \n",
        "- Padało \n",
        "- Spadło powyżej 0.5 cali (inch) deszczu \n",
        "- Spadło poniżej 0.2 cali (inch) deszczu, ale padało! \n",
        "\n",
        "Korzystając z maskowania policz następujące statystyki: \n",
        "- Medianę opadów w deszczowe dni w 2014 roku \n",
        "- Medianę opadów latem w 2014 roku (czyli dni pomiędzy dniem 172 a 262) \n",
        "- Maksymalne opady latem 2014 roku \n",
        "- Maksymalne opady poza latem 2014 roku (czyli wiosna, jesień i zima) "
      ],
      "metadata": {
        "id": "D61KhmyfP7x9"
      }
    },
    {
      "cell_type": "code",
      "source": [
        "%matplotlib inline\n",
        "import matplotlib.pyplot as plt\n",
        "import seaborn; seaborn.set()\n",
        "arrayInInches = plt.hist(inches, 40)\n",
        "print(arrayInInches[1])"
      ],
      "metadata": {
        "colab": {
          "base_uri": "https://localhost:8080/",
          "height": 393
        },
        "id": "nLrZNJrLOHIQ",
        "outputId": "3c825313-640a-47f3-8dff-191bbbd535f7"
      },
      "execution_count": null,
      "outputs": [
        {
          "output_type": "stream",
          "name": "stdout",
          "text": [
            "[0.         0.04596457 0.09192913 0.1378937  0.18385827 0.22982283\n",
            " 0.2757874  0.32175197 0.36771654 0.4136811  0.45964567 0.50561024\n",
            " 0.5515748  0.59753937 0.64350394 0.6894685  0.73543307 0.78139764\n",
            " 0.8273622  0.87332677 0.91929134 0.96525591 1.01122047 1.05718504\n",
            " 1.10314961 1.14911417 1.19507874 1.24104331 1.28700787 1.33297244\n",
            " 1.37893701 1.42490157 1.47086614 1.51683071 1.56279528 1.60875984\n",
            " 1.65472441 1.70068898 1.74665354 1.79261811 1.83858268]\n"
          ]
        },
        {
          "output_type": "display_data",
          "data": {
            "text/plain": [
              "<Figure size 432x288 with 1 Axes>"
            ],
            "image/png": "[encoded data removed]"
          },
          "metadata": {}
        }
      ]
    },
    {
      "cell_type": "markdown",
      "source": [
        "Zadanie 4 (5 pkt)\n",
        "Dane są dwa wektory A i B.  \n",
        "A = [0,3,2,5] \n",
        "B = [0,3,1,4] \n",
        "Wykonaj następujące operacje: \n",
        "- Dodaj A i B \n",
        "- Odejmij B od A \n",
        "- Pomnóż wektor A przez skalar a=4 \n",
        "- Oblicz iloczyn skalarny wektorów A i B \n",
        "- Znajdź długość wektora B \n",
        "\n",
        "Te operacje można wykonać „ręcznie” w Pythonie, ale postaraj się znaleźć odpowiednie funkcje NumPy. "
      ],
      "metadata": {
        "id": "v-SsMO12F-Mw"
      }
    },
    {
      "cell_type": "code",
      "source": [
        "import numpy as np\n",
        "\n",
        "A=[0,3,2,5]\n",
        "B=[0,3,1,4] \n",
        "\n",
        "vectorA = np.array(A)\n",
        "vectorB = np.array(B)\n",
        "sumAB = vectorA + vectorB\n",
        "print(sumAB)\n",
        "\n",
        "subBA = vectorA - vectorB\n",
        "print(subBA)\n",
        "\n",
        "scaled_vectorA = vectorA*4\n",
        "print(scaled_vectorA)\n",
        "\n",
        "dotAB = vectorA.dot(vectorB)\n",
        "print(dotAB)\n",
        "\n",
        "lenghtB = np.linalg.norm(vectorB)\n",
        "print(lenghtB)\n"
      ],
      "metadata": {
        "id": "h-wpbRPAGNFL",
        "colab": {
          "base_uri": "https://localhost:8080/"
        },
        "outputId": "31f17779-9972-4e40-fa5d-5100163079be"
      },
      "execution_count": null,
      "outputs": [
        {
          "output_type": "stream",
          "name": "stdout",
          "text": [
            "[0 6 3 9]\n",
            "[0 0 1 1]\n",
            "[ 0 12  8 20]\n",
            "31\n",
            "5.0990195135927845\n"
          ]
        }
      ]
    }
  ]
}